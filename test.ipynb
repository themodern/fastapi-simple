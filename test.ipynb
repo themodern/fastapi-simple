{
 "cells": [
  {
   "cell_type": "code",
   "execution_count": 164,
   "metadata": {},
   "outputs": [],
   "source": [
    "import pandas as pd\n",
    "import plotly\n",
    "import pprint\n",
    "import requests"
   ]
  },
  {
   "cell_type": "markdown",
   "metadata": {},
   "source": [
    "### Generate unique filename"
   ]
  },
  {
   "cell_type": "code",
   "execution_count": 166,
   "metadata": {},
   "outputs": [
    {
     "data": {
      "text/plain": [
       "'0d86cf1b68704ab59cead7358f24ec9a.csv'"
      ]
     },
     "execution_count": 166,
     "metadata": {},
     "output_type": "execute_result"
    }
   ],
   "source": [
    "import os\n",
    "data_folder = \"temp\"\n",
    "filename = \"temp_result_1.csv\"\n",
    "\n",
    "file_path = os.path.join(data_folder, filename)\n",
    "\n",
    "filename = os.path.basename(file_path)\n",
    "filesize = os.path.getsize(file_path)\n",
    "\n",
    "import hashlib\n",
    "\n",
    "def generate_unique_filename(filename, filesize):\n",
    "    unique_string_filename = f\"{filename}{filesize}\"\n",
    "    has_object = hashlib.md5(unique_string_filename.encode())\n",
    "    hash_name = has_object.hexdigest()\n",
    "\n",
    "    file_extension = filename.split(\".\")[-1]\n",
    "    unique_string_filename = f\"{hash_name}.{file_extension}\"\n",
    "\n",
    "    return unique_string_filename\n",
    "\n",
    "unique_filename = generate_unique_filename(filename, filesize)\n",
    "unique_filename"
   ]
  },
  {
   "cell_type": "code",
   "execution_count": null,
   "metadata": {},
   "outputs": [],
   "source": []
  },
  {
   "cell_type": "markdown",
   "metadata": {},
   "source": [
    "### read a csv"
   ]
  },
  {
   "cell_type": "code",
   "execution_count": 168,
   "metadata": {},
   "outputs": [
    {
     "name": "stdout",
     "output_type": "stream",
     "text": [
      "<class 'pandas.core.frame.DataFrame'>\n"
     ]
    },
    {
     "data": {
      "text/html": [
       "<div>\n",
       "<style scoped>\n",
       "    .dataframe tbody tr th:only-of-type {\n",
       "        vertical-align: middle;\n",
       "    }\n",
       "\n",
       "    .dataframe tbody tr th {\n",
       "        vertical-align: top;\n",
       "    }\n",
       "\n",
       "    .dataframe thead th {\n",
       "        text-align: right;\n",
       "    }\n",
       "</style>\n",
       "<table border=\"1\" class=\"dataframe\">\n",
       "  <thead>\n",
       "    <tr style=\"text-align: right;\">\n",
       "      <th></th>\n",
       "      <th>Date</th>\n",
       "      <th>Open</th>\n",
       "      <th>High</th>\n",
       "      <th>Low</th>\n",
       "      <th>Close</th>\n",
       "      <th>Adj Close</th>\n",
       "      <th>Volume</th>\n",
       "    </tr>\n",
       "  </thead>\n",
       "  <tbody>\n",
       "    <tr>\n",
       "      <th>0</th>\n",
       "      <td>2022-10-19</td>\n",
       "      <td>141.690002</td>\n",
       "      <td>144.949997</td>\n",
       "      <td>141.500000</td>\n",
       "      <td>143.860001</td>\n",
       "      <td>143.011597</td>\n",
       "      <td>61758300</td>\n",
       "    </tr>\n",
       "    <tr>\n",
       "      <th>1</th>\n",
       "      <td>2022-10-20</td>\n",
       "      <td>143.020004</td>\n",
       "      <td>145.889999</td>\n",
       "      <td>142.649994</td>\n",
       "      <td>143.389999</td>\n",
       "      <td>142.544373</td>\n",
       "      <td>64522000</td>\n",
       "    </tr>\n",
       "    <tr>\n",
       "      <th>2</th>\n",
       "      <td>2022-10-21</td>\n",
       "      <td>142.869995</td>\n",
       "      <td>147.850006</td>\n",
       "      <td>142.649994</td>\n",
       "      <td>147.270004</td>\n",
       "      <td>146.401489</td>\n",
       "      <td>86548600</td>\n",
       "    </tr>\n",
       "    <tr>\n",
       "      <th>3</th>\n",
       "      <td>2022-10-24</td>\n",
       "      <td>147.190002</td>\n",
       "      <td>150.229996</td>\n",
       "      <td>146.000000</td>\n",
       "      <td>149.449997</td>\n",
       "      <td>148.568619</td>\n",
       "      <td>75981900</td>\n",
       "    </tr>\n",
       "    <tr>\n",
       "      <th>4</th>\n",
       "      <td>2022-10-25</td>\n",
       "      <td>150.089996</td>\n",
       "      <td>152.490005</td>\n",
       "      <td>149.360001</td>\n",
       "      <td>152.339996</td>\n",
       "      <td>151.441589</td>\n",
       "      <td>74732300</td>\n",
       "    </tr>\n",
       "    <tr>\n",
       "      <th>...</th>\n",
       "      <td>...</td>\n",
       "      <td>...</td>\n",
       "      <td>...</td>\n",
       "      <td>...</td>\n",
       "      <td>...</td>\n",
       "      <td>...</td>\n",
       "      <td>...</td>\n",
       "    </tr>\n",
       "    <tr>\n",
       "      <th>245</th>\n",
       "      <td>2023-10-11</td>\n",
       "      <td>178.199997</td>\n",
       "      <td>179.850006</td>\n",
       "      <td>177.600006</td>\n",
       "      <td>179.800003</td>\n",
       "      <td>179.800003</td>\n",
       "      <td>47551100</td>\n",
       "    </tr>\n",
       "    <tr>\n",
       "      <th>246</th>\n",
       "      <td>2023-10-12</td>\n",
       "      <td>180.070007</td>\n",
       "      <td>182.339996</td>\n",
       "      <td>179.039993</td>\n",
       "      <td>180.710007</td>\n",
       "      <td>180.710007</td>\n",
       "      <td>56743100</td>\n",
       "    </tr>\n",
       "    <tr>\n",
       "      <th>247</th>\n",
       "      <td>2023-10-13</td>\n",
       "      <td>181.419998</td>\n",
       "      <td>181.929993</td>\n",
       "      <td>178.139999</td>\n",
       "      <td>178.850006</td>\n",
       "      <td>178.850006</td>\n",
       "      <td>51427100</td>\n",
       "    </tr>\n",
       "    <tr>\n",
       "      <th>248</th>\n",
       "      <td>2023-10-16</td>\n",
       "      <td>176.750000</td>\n",
       "      <td>179.080002</td>\n",
       "      <td>176.509995</td>\n",
       "      <td>178.720001</td>\n",
       "      <td>178.720001</td>\n",
       "      <td>52517000</td>\n",
       "    </tr>\n",
       "    <tr>\n",
       "      <th>249</th>\n",
       "      <td>2023-10-17</td>\n",
       "      <td>176.649994</td>\n",
       "      <td>178.419998</td>\n",
       "      <td>174.800003</td>\n",
       "      <td>177.149994</td>\n",
       "      <td>177.149994</td>\n",
       "      <td>57515400</td>\n",
       "    </tr>\n",
       "  </tbody>\n",
       "</table>\n",
       "<p>250 rows × 7 columns</p>\n",
       "</div>"
      ],
      "text/plain": [
       "          Date        Open        High         Low       Close   Adj Close  \\\n",
       "0   2022-10-19  141.690002  144.949997  141.500000  143.860001  143.011597   \n",
       "1   2022-10-20  143.020004  145.889999  142.649994  143.389999  142.544373   \n",
       "2   2022-10-21  142.869995  147.850006  142.649994  147.270004  146.401489   \n",
       "3   2022-10-24  147.190002  150.229996  146.000000  149.449997  148.568619   \n",
       "4   2022-10-25  150.089996  152.490005  149.360001  152.339996  151.441589   \n",
       "..         ...         ...         ...         ...         ...         ...   \n",
       "245 2023-10-11  178.199997  179.850006  177.600006  179.800003  179.800003   \n",
       "246 2023-10-12  180.070007  182.339996  179.039993  180.710007  180.710007   \n",
       "247 2023-10-13  181.419998  181.929993  178.139999  178.850006  178.850006   \n",
       "248 2023-10-16  176.750000  179.080002  176.509995  178.720001  178.720001   \n",
       "249 2023-10-17  176.649994  178.419998  174.800003  177.149994  177.149994   \n",
       "\n",
       "       Volume  \n",
       "0    61758300  \n",
       "1    64522000  \n",
       "2    86548600  \n",
       "3    75981900  \n",
       "4    74732300  \n",
       "..        ...  \n",
       "245  47551100  \n",
       "246  56743100  \n",
       "247  51427100  \n",
       "248  52517000  \n",
       "249  57515400  \n",
       "\n",
       "[250 rows x 7 columns]"
      ]
     },
     "execution_count": 168,
     "metadata": {},
     "output_type": "execute_result"
    }
   ],
   "source": [
    "# Download a data file from Yahoo.com\n",
    "path = \"temp/temp_result_1.csv\"\n",
    "df = pd.read_csv(path)\n",
    "df['Date'] = pd.to_datetime(df['Date'])\n",
    "print(type(df))\n",
    "df"
   ]
  },
  {
   "cell_type": "code",
   "execution_count": 35,
   "metadata": {},
   "outputs": [
    {
     "name": "stdout",
     "output_type": "stream",
     "text": [
      "{\"message\":\"DataFrame uploaded and saved.\"}\n"
     ]
    }
   ],
   "source": [
    "import requests\n",
    "import pandas as pd\n",
    "from io import StringIO\n",
    "\n",
    "\n",
    "df = pd.DataFrame(df)\n",
    "# Convert the DataFrame to a CSV string\n",
    "csv_string = df.to_csv(index=False)\n",
    "# Define the FastAPI endpoint URL\n",
    "upload_url = \"http://localhost:8000/upload-dataframe/\"  # Replace with your actual URL\n",
    "# Create a file-like object from the CSV string\n",
    "csv_file = StringIO(csv_string)\n",
    "# Send a POST request to upload the DataFrame\n",
    "files = {'file': (f'{unique_filename}.csv', csv_file, 'text/csv')}\n",
    "response = requests.post(upload_url, files=files)\n",
    "# Print the response\n",
    "print(response.text)\n"
   ]
  },
  {
   "cell_type": "markdown",
   "metadata": {},
   "source": [
    "### get Dataframe"
   ]
  },
  {
   "cell_type": "code",
   "execution_count": 22,
   "metadata": {},
   "outputs": [
    {
     "data": {
      "text/html": [
       "<div>\n",
       "<style scoped>\n",
       "    .dataframe tbody tr th:only-of-type {\n",
       "        vertical-align: middle;\n",
       "    }\n",
       "\n",
       "    .dataframe tbody tr th {\n",
       "        vertical-align: top;\n",
       "    }\n",
       "\n",
       "    .dataframe thead th {\n",
       "        text-align: right;\n",
       "    }\n",
       "</style>\n",
       "<table border=\"1\" class=\"dataframe\">\n",
       "  <thead>\n",
       "    <tr style=\"text-align: right;\">\n",
       "      <th></th>\n",
       "      <th>Date</th>\n",
       "      <th>Open</th>\n",
       "      <th>High</th>\n",
       "      <th>Low</th>\n",
       "      <th>Close</th>\n",
       "      <th>Adj Close</th>\n",
       "      <th>Volume</th>\n",
       "    </tr>\n",
       "  </thead>\n",
       "  <tbody>\n",
       "    <tr>\n",
       "      <th>0</th>\n",
       "      <td>2022-10-19</td>\n",
       "      <td>141.690002</td>\n",
       "      <td>144.949997</td>\n",
       "      <td>141.500000</td>\n",
       "      <td>143.860001</td>\n",
       "      <td>143.011597</td>\n",
       "      <td>61758300</td>\n",
       "    </tr>\n",
       "    <tr>\n",
       "      <th>1</th>\n",
       "      <td>2022-10-20</td>\n",
       "      <td>143.020004</td>\n",
       "      <td>145.889999</td>\n",
       "      <td>142.649994</td>\n",
       "      <td>143.389999</td>\n",
       "      <td>142.544373</td>\n",
       "      <td>64522000</td>\n",
       "    </tr>\n",
       "    <tr>\n",
       "      <th>2</th>\n",
       "      <td>2022-10-21</td>\n",
       "      <td>142.869995</td>\n",
       "      <td>147.850006</td>\n",
       "      <td>142.649994</td>\n",
       "      <td>147.270004</td>\n",
       "      <td>146.401489</td>\n",
       "      <td>86548600</td>\n",
       "    </tr>\n",
       "    <tr>\n",
       "      <th>3</th>\n",
       "      <td>2022-10-24</td>\n",
       "      <td>147.190002</td>\n",
       "      <td>150.229996</td>\n",
       "      <td>146.000000</td>\n",
       "      <td>149.449997</td>\n",
       "      <td>148.568619</td>\n",
       "      <td>75981900</td>\n",
       "    </tr>\n",
       "    <tr>\n",
       "      <th>4</th>\n",
       "      <td>2022-10-25</td>\n",
       "      <td>150.089996</td>\n",
       "      <td>152.490005</td>\n",
       "      <td>149.360001</td>\n",
       "      <td>152.339996</td>\n",
       "      <td>151.441589</td>\n",
       "      <td>74732300</td>\n",
       "    </tr>\n",
       "  </tbody>\n",
       "</table>\n",
       "</div>"
      ],
      "text/plain": [
       "         Date        Open        High         Low       Close   Adj Close  \\\n",
       "0  2022-10-19  141.690002  144.949997  141.500000  143.860001  143.011597   \n",
       "1  2022-10-20  143.020004  145.889999  142.649994  143.389999  142.544373   \n",
       "2  2022-10-21  142.869995  147.850006  142.649994  147.270004  146.401489   \n",
       "3  2022-10-24  147.190002  150.229996  146.000000  149.449997  148.568619   \n",
       "4  2022-10-25  150.089996  152.490005  149.360001  152.339996  151.441589   \n",
       "\n",
       "     Volume  \n",
       "0  61758300  \n",
       "1  64522000  \n",
       "2  86548600  \n",
       "3  75981900  \n",
       "4  74732300  "
      ]
     },
     "execution_count": 22,
     "metadata": {},
     "output_type": "execute_result"
    }
   ],
   "source": [
    "import requests\n",
    "\n",
    "# Update with the desired file name\n",
    "filename = \"data.csv\"  \n",
    "\n",
    "# Make a GET request to the endpoint\n",
    "response = requests.get(f\"http://localhost:8000/get-dataframe/?filename={filename}\")\n",
    "\n",
    "# Check the response status code\n",
    "if response.status_code == 200:\n",
    "    data = response.json()\n",
    "    data = data[\"dataframe\"]\n",
    "    # Now you can work with the DataFrame in your Jupyter Notebook\n",
    "    \n",
    "else:\n",
    "    print(\"Request failed with status code:\", response.status_code)\n",
    "\n",
    "pd.DataFrame(data).head(5)"
   ]
  },
  {
   "cell_type": "code",
   "execution_count": null,
   "metadata": {},
   "outputs": [],
   "source": []
  },
  {
   "cell_type": "markdown",
   "metadata": {},
   "source": [
    "### Add model to Database"
   ]
  },
  {
   "cell_type": "code",
   "execution_count": 38,
   "metadata": {},
   "outputs": [
    {
     "name": "stdout",
     "output_type": "stream",
     "text": [
      "Response:\n",
      "{'asset_name': 'asset 1',\n",
      " 'currency': 'USD',\n",
      " 'market': 'US',\n",
      " 'model_name': '0d86cf1b68704ab59cead7358f24ec9a.csv'}\n"
     ]
    }
   ],
   "source": [
    "import requests\n",
    "import pprint\n",
    "\n",
    "\n",
    "# Define the URL of your FastAPI application\n",
    "url = \"http://localhost:8000/model/post_new_model\"  # Replace with the actual URL of your FastAPI application\n",
    "# Define the JSON data you want to send in the POST request\n",
    "data = {\n",
    "    \"asset_name\": \"asset 1\",\n",
    "    \"model_name\": f\"{unique_filename}\",\n",
    "    \"market\":     \"US\",\n",
    "    \"currency\":   \"USD\"    \n",
    "}\n",
    "# Send a POST request with JSON data\n",
    "response = requests.post(url, json=data)\n",
    "if response.status_code == 200:\n",
    "    response_data = response.json()\n",
    "    print(\"Response:\")\n",
    "    pprint(response_data)\n",
    "else:\n",
    "    print(\"Request failed with status code:\", response.status_code)\n"
   ]
  },
  {
   "cell_type": "markdown",
   "metadata": {},
   "source": [
    "### Get all models"
   ]
  },
  {
   "cell_type": "code",
   "execution_count": 47,
   "metadata": {},
   "outputs": [
    {
     "name": "stdout",
     "output_type": "stream",
     "text": [
      "[]\n"
     ]
    }
   ],
   "source": [
    "import requests\n",
    "from pprint import pprint\n",
    "\n",
    "# Define the URL of your FastAPI application\n",
    "url = \"http://localhost:8000/model/get_all_models\"  # Replace with the actual URL of your FastAPI application\n",
    "\n",
    "# Send a GET request to the / endpoint\n",
    "response = requests.get(url)\n",
    "\n",
    "# Check the response status code\n",
    "if response.status_code == 200:\n",
    "    # Print the response content\n",
    "    data = response.json()\n",
    "    pprint(data)\n",
    "\n",
    "else:\n",
    "    print(\"Request failed with status code:\", response.status_code)\n"
   ]
  },
  {
   "cell_type": "code",
   "execution_count": 44,
   "metadata": {},
   "outputs": [
    {
     "name": "stdout",
     "output_type": "stream",
     "text": [
      "[{'asset_name': 'asset 1',\n",
      "  'currency': 'USD',\n",
      "  'id': 1,\n",
      "  'market': 'US',\n",
      "  'model_name': '0d86cf1b68704ab59cead7358f24ec9a.csv'}]\n"
     ]
    }
   ],
   "source": [
    "import requests\n",
    "from pprint import pprint\n",
    "\n",
    "model_name = unique_filename\n",
    "# Define the URL of your FastAPI application\n",
    "url = f\"http://127.0.0.1:8000/model/get_models_model_name/{model_name}\"  # Replace with the actual URL of your FastAPI application\n",
    "\n",
    "# Send a GET request to the / endpoint\n",
    "response = requests.get(url)\n",
    "\n",
    "# Check the response status code\n",
    "if response.status_code == 200:\n",
    "    # Print the response content\n",
    "    data = response.json()\n",
    "    pprint(data)\n",
    "\n",
    "else:\n",
    "    print(\"Request failed with status code:\", response.status_code)\n"
   ]
  },
  {
   "cell_type": "markdown",
   "metadata": {},
   "source": [
    "### update data\n"
   ]
  },
  {
   "cell_type": "code",
   "execution_count": 46,
   "metadata": {},
   "outputs": [
    {
     "name": "stdout",
     "output_type": "stream",
     "text": [
      "Response:\n",
      "{'message': 'Model ID: 1 is deleted successfully'}\n"
     ]
    }
   ],
   "source": [
    "import requests\n",
    "\n",
    "# Define the URL of your FastAPI application\n",
    "id = 1\n",
    "url = f\"http://localhost:8000/model/delete_model/{id}\"\n",
    "\n",
    "# Send a Deleete request\n",
    "response = requests.delete(url)\n",
    "\n",
    "# Check the response status code\n",
    "if response.status_code == 200:\n",
    "    # Parse the JSON response and pretty-print it\n",
    "    response_data = response.json()\n",
    "    print(\"Response:\")\n",
    "    print(response_data)\n",
    "else:\n",
    "    print(\"Request failed with status code:\", response.status_code)\n"
   ]
  },
  {
   "cell_type": "code",
   "execution_count": null,
   "metadata": {},
   "outputs": [],
   "source": []
  },
  {
   "cell_type": "markdown",
   "metadata": {},
   "source": [
    "### calculate NAV"
   ]
  },
  {
   "cell_type": "code",
   "execution_count": 56,
   "metadata": {},
   "outputs": [],
   "source": [
    "\n",
    "from plotly.subplots import make_subplots\n",
    "import plotly.graph_objects as go"
   ]
  },
  {
   "cell_type": "code",
   "execution_count": 58,
   "metadata": {},
   "outputs": [],
   "source": [
    "def plotting_colors():\n",
    "    while True:\n",
    "        for color_choice in ['#DB4437', '#F4B400', '#0F9D58',\n",
    "                  '#185ABC', '#B31412', '#EA8600', '#137333',\n",
    "                  '#d2e3fc', '#ceead6']:\n",
    "            yield color_choice\n",
    "\n"
   ]
  },
  {
   "cell_type": "code",
   "execution_count": null,
   "metadata": {},
   "outputs": [],
   "source": []
  },
  {
   "cell_type": "code",
   "execution_count": 171,
   "metadata": {},
   "outputs": [
    {
     "name": "stdout",
     "output_type": "stream",
     "text": [
      "<class 'pandas.core.frame.DataFrame'>\n",
      "Int64Index: 127 entries, 0 to 126\n",
      "Data columns (total 8 columns):\n",
      " #   Column          Non-Null Count  Dtype         \n",
      "---  ------          --------------  -----         \n",
      " 0   Date            127 non-null    datetime64[ns]\n",
      " 1   Open            127 non-null    float64       \n",
      " 2   High            127 non-null    float64       \n",
      " 3   Low             127 non-null    float64       \n",
      " 4   Close           127 non-null    float64       \n",
      " 5   Adj Close       127 non-null    float64       \n",
      " 6   Volume          127 non-null    int64         \n",
      " 7   risk free rate  127 non-null    object        \n",
      "dtypes: datetime64[ns](1), float64(5), int64(1), object(1)\n",
      "memory usage: 8.9+ KB\n"
     ]
    }
   ],
   "source": [
    "rf = pd.read_excel('temp/RF.xlsx')\n",
    "rf.head(10)\n",
    "rf = rf.iloc[5:]\n",
    "rf.columns = ['Date', 'risk free rate']\n",
    "\n",
    "rf['Date'] = pd.to_datetime(rf['Date'])\n",
    "df = df.merge(rf, on='Date' )\n",
    "df.info()"
   ]
  },
  {
   "cell_type": "code",
   "execution_count": 186,
   "metadata": {},
   "outputs": [],
   "source": [
    "df1 = pd.read_csv(\"temp/MS.csv\")\n",
    "df1['Date'] = pd.to_datetime(df1['Date'])\n",
    "df1 = df1.merge(rf, on='Date' )\n",
    "\n"
   ]
  },
  {
   "cell_type": "code",
   "execution_count": 225,
   "metadata": {},
   "outputs": [],
   "source": [
    "def Cal_Drawdown(nav: pd.Series):\n",
    "    return (nav / nav.expanding().max()-1)  # added missing parentheses\n",
    "\n",
    "def Cal_nav(a_series):\n",
    "    return a_series/a_series.iloc[0]*100\n",
    "\n",
    "def sharpe_ratio(data):\n",
    "    \n",
    "    average_return = Cal_nav(data['Open']).rolling(window=1).mean()-100\n",
    "    risk_free_rate = data['risk free rate']/100\n",
    "    std_dev = Cal_nav(data['Open']).rolling(window=3).std().fillna(1)\n",
    "    return (average_return - risk_free_rate) / std_dev\n",
    "\n",
    "\n",
    "\n",
    "Portfolio_nav = Cal_nav(df['Open'])\n",
    "drawdown = Cal_Drawdown(Portfolio_nav)\n",
    "Portfolio_sharpe = sharpe_ratio(df)\n",
    "\n",
    "benchmark = df1['Open']\n",
    "Benchmark_nav = Cal_nav(benchmark)\n",
    "Benchmark_drawdown = Cal_Drawdown(Benchmark_nav)\n",
    "Benchmark_sharpe = sharpe_ratio(df1)\n"
   ]
  },
  {
   "cell_type": "code",
   "execution_count": 226,
   "metadata": {},
   "outputs": [
    {
     "data": {
      "text/html": [
       "<div>\n",
       "<style scoped>\n",
       "    .dataframe tbody tr th:only-of-type {\n",
       "        vertical-align: middle;\n",
       "    }\n",
       "\n",
       "    .dataframe tbody tr th {\n",
       "        vertical-align: top;\n",
       "    }\n",
       "\n",
       "    .dataframe thead th {\n",
       "        text-align: right;\n",
       "    }\n",
       "</style>\n",
       "<table border=\"1\" class=\"dataframe\">\n",
       "  <thead>\n",
       "    <tr style=\"text-align: right;\">\n",
       "      <th></th>\n",
       "      <th>Date</th>\n",
       "      <th>Open</th>\n",
       "      <th>High</th>\n",
       "      <th>Low</th>\n",
       "      <th>Close</th>\n",
       "      <th>Adj Close</th>\n",
       "      <th>Volume</th>\n",
       "      <th>risk free rate</th>\n",
       "    </tr>\n",
       "  </thead>\n",
       "  <tbody>\n",
       "    <tr>\n",
       "      <th>0</th>\n",
       "      <td>2022-10-19</td>\n",
       "      <td>141.690002</td>\n",
       "      <td>144.949997</td>\n",
       "      <td>141.500000</td>\n",
       "      <td>143.860001</td>\n",
       "      <td>143.011597</td>\n",
       "      <td>61758300</td>\n",
       "      <td>4.27757</td>\n",
       "    </tr>\n",
       "    <tr>\n",
       "      <th>1</th>\n",
       "      <td>2022-10-20</td>\n",
       "      <td>143.020004</td>\n",
       "      <td>145.889999</td>\n",
       "      <td>142.649994</td>\n",
       "      <td>143.389999</td>\n",
       "      <td>142.544373</td>\n",
       "      <td>64522000</td>\n",
       "      <td>4.32457</td>\n",
       "    </tr>\n",
       "    <tr>\n",
       "      <th>2</th>\n",
       "      <td>2022-10-21</td>\n",
       "      <td>142.869995</td>\n",
       "      <td>147.850006</td>\n",
       "      <td>142.649994</td>\n",
       "      <td>147.270004</td>\n",
       "      <td>146.401489</td>\n",
       "      <td>86548600</td>\n",
       "      <td>4.35843</td>\n",
       "    </tr>\n",
       "    <tr>\n",
       "      <th>3</th>\n",
       "      <td>2022-10-24</td>\n",
       "      <td>147.190002</td>\n",
       "      <td>150.229996</td>\n",
       "      <td>146.000000</td>\n",
       "      <td>149.449997</td>\n",
       "      <td>148.568619</td>\n",
       "      <td>75981900</td>\n",
       "      <td>4.32686</td>\n",
       "    </tr>\n",
       "    <tr>\n",
       "      <th>4</th>\n",
       "      <td>2022-10-25</td>\n",
       "      <td>150.089996</td>\n",
       "      <td>152.490005</td>\n",
       "      <td>149.360001</td>\n",
       "      <td>152.339996</td>\n",
       "      <td>151.441589</td>\n",
       "      <td>74732300</td>\n",
       "      <td>4.358</td>\n",
       "    </tr>\n",
       "  </tbody>\n",
       "</table>\n",
       "</div>"
      ],
      "text/plain": [
       "        Date        Open        High         Low       Close   Adj Close  \\\n",
       "0 2022-10-19  141.690002  144.949997  141.500000  143.860001  143.011597   \n",
       "1 2022-10-20  143.020004  145.889999  142.649994  143.389999  142.544373   \n",
       "2 2022-10-21  142.869995  147.850006  142.649994  147.270004  146.401489   \n",
       "3 2022-10-24  147.190002  150.229996  146.000000  149.449997  148.568619   \n",
       "4 2022-10-25  150.089996  152.490005  149.360001  152.339996  151.441589   \n",
       "\n",
       "     Volume risk free rate  \n",
       "0  61758300        4.27757  \n",
       "1  64522000        4.32457  \n",
       "2  86548600        4.35843  \n",
       "3  75981900        4.32686  \n",
       "4  74732300          4.358  "
      ]
     },
     "execution_count": 226,
     "metadata": {},
     "output_type": "execute_result"
    }
   ],
   "source": [
    "df.head()"
   ]
  },
  {
   "cell_type": "code",
   "execution_count": 227,
   "metadata": {},
   "outputs": [
    {
     "data": {
      "text/html": [
       "<div>\n",
       "<style scoped>\n",
       "    .dataframe tbody tr th:only-of-type {\n",
       "        vertical-align: middle;\n",
       "    }\n",
       "\n",
       "    .dataframe tbody tr th {\n",
       "        vertical-align: top;\n",
       "    }\n",
       "\n",
       "    .dataframe thead th {\n",
       "        text-align: right;\n",
       "    }\n",
       "</style>\n",
       "<table border=\"1\" class=\"dataframe\">\n",
       "  <thead>\n",
       "    <tr style=\"text-align: right;\">\n",
       "      <th></th>\n",
       "      <th>Date</th>\n",
       "      <th>Open</th>\n",
       "      <th>High</th>\n",
       "      <th>Low</th>\n",
       "      <th>Close</th>\n",
       "      <th>Adj Close</th>\n",
       "      <th>Volume</th>\n",
       "      <th>risk free rate</th>\n",
       "    </tr>\n",
       "  </thead>\n",
       "  <tbody>\n",
       "    <tr>\n",
       "      <th>0</th>\n",
       "      <td>2022-10-19</td>\n",
       "      <td>79.150002</td>\n",
       "      <td>79.589996</td>\n",
       "      <td>77.370003</td>\n",
       "      <td>77.639999</td>\n",
       "      <td>74.931038</td>\n",
       "      <td>7429600</td>\n",
       "      <td>4.27757</td>\n",
       "    </tr>\n",
       "    <tr>\n",
       "      <th>1</th>\n",
       "      <td>2022-10-20</td>\n",
       "      <td>77.629997</td>\n",
       "      <td>78.540001</td>\n",
       "      <td>76.139999</td>\n",
       "      <td>76.599998</td>\n",
       "      <td>73.927330</td>\n",
       "      <td>7638100</td>\n",
       "      <td>4.32457</td>\n",
       "    </tr>\n",
       "    <tr>\n",
       "      <th>2</th>\n",
       "      <td>2022-10-21</td>\n",
       "      <td>76.610001</td>\n",
       "      <td>79.529999</td>\n",
       "      <td>76.220001</td>\n",
       "      <td>79.220001</td>\n",
       "      <td>76.455910</td>\n",
       "      <td>8149000</td>\n",
       "      <td>4.35843</td>\n",
       "    </tr>\n",
       "    <tr>\n",
       "      <th>3</th>\n",
       "      <td>2022-10-24</td>\n",
       "      <td>79.529999</td>\n",
       "      <td>81.099998</td>\n",
       "      <td>78.570000</td>\n",
       "      <td>79.430000</td>\n",
       "      <td>76.658585</td>\n",
       "      <td>8143300</td>\n",
       "      <td>4.32686</td>\n",
       "    </tr>\n",
       "    <tr>\n",
       "      <th>4</th>\n",
       "      <td>2022-10-25</td>\n",
       "      <td>78.610001</td>\n",
       "      <td>80.669998</td>\n",
       "      <td>78.610001</td>\n",
       "      <td>80.510002</td>\n",
       "      <td>77.700912</td>\n",
       "      <td>8173600</td>\n",
       "      <td>4.358</td>\n",
       "    </tr>\n",
       "  </tbody>\n",
       "</table>\n",
       "</div>"
      ],
      "text/plain": [
       "        Date       Open       High        Low      Close  Adj Close   Volume  \\\n",
       "0 2022-10-19  79.150002  79.589996  77.370003  77.639999  74.931038  7429600   \n",
       "1 2022-10-20  77.629997  78.540001  76.139999  76.599998  73.927330  7638100   \n",
       "2 2022-10-21  76.610001  79.529999  76.220001  79.220001  76.455910  8149000   \n",
       "3 2022-10-24  79.529999  81.099998  78.570000  79.430000  76.658585  8143300   \n",
       "4 2022-10-25  78.610001  80.669998  78.610001  80.510002  77.700912  8173600   \n",
       "\n",
       "  risk free rate  \n",
       "0        4.27757  \n",
       "1        4.32457  \n",
       "2        4.35843  \n",
       "3        4.32686  \n",
       "4          4.358  "
      ]
     },
     "execution_count": 227,
     "metadata": {},
     "output_type": "execute_result"
    }
   ],
   "source": [
    "df1.head()"
   ]
  },
  {
   "cell_type": "code",
   "execution_count": null,
   "metadata": {},
   "outputs": [],
   "source": []
  },
  {
   "cell_type": "code",
   "execution_count": 231,
   "metadata": {},
   "outputs": [
    {
     "data": {
      "application/vnd.plotly.v1+json": {
       "config": {
        "plotlyServerURL": "https://plot.ly"
       },
       "data": [
        {
         "legendgroup": "Portfolio",
         "legendgrouptitle": {
          "text": "Portfolio"
         },
         "line": {
          "color": "#4285F4",
          "width": 2
         },
         "name": "Portfolio NAV",
         "type": "scatter",
         "x": [
          "2022-10-19T00:00:00",
          "2022-10-20T00:00:00",
          "2022-10-21T00:00:00",
          "2022-10-24T00:00:00",
          "2022-10-25T00:00:00",
          "2022-10-26T00:00:00",
          "2022-10-27T00:00:00",
          "2022-10-28T00:00:00",
          "2022-10-31T00:00:00",
          "2022-11-01T00:00:00",
          "2022-11-02T00:00:00",
          "2022-11-03T00:00:00",
          "2022-11-04T00:00:00",
          "2022-11-07T00:00:00",
          "2022-11-08T00:00:00",
          "2022-11-09T00:00:00",
          "2022-11-10T00:00:00",
          "2022-11-11T00:00:00",
          "2022-11-14T00:00:00",
          "2022-11-15T00:00:00",
          "2022-11-16T00:00:00",
          "2022-11-17T00:00:00",
          "2022-11-18T00:00:00",
          "2022-11-21T00:00:00",
          "2022-11-22T00:00:00",
          "2022-11-23T00:00:00",
          "2022-11-25T00:00:00",
          "2022-11-28T00:00:00",
          "2022-11-29T00:00:00",
          "2022-11-30T00:00:00",
          "2022-12-01T00:00:00",
          "2022-12-02T00:00:00",
          "2022-12-05T00:00:00",
          "2022-12-06T00:00:00",
          "2022-12-07T00:00:00",
          "2022-12-08T00:00:00",
          "2022-12-09T00:00:00",
          "2022-12-12T00:00:00",
          "2022-12-13T00:00:00",
          "2022-12-14T00:00:00",
          "2022-12-15T00:00:00",
          "2022-12-16T00:00:00",
          "2022-12-19T00:00:00",
          "2022-12-20T00:00:00",
          "2022-12-21T00:00:00",
          "2022-12-22T00:00:00",
          "2022-12-23T00:00:00",
          "2022-12-27T00:00:00",
          "2022-12-28T00:00:00",
          "2022-12-29T00:00:00",
          "2022-12-30T00:00:00",
          "2023-01-03T00:00:00",
          "2023-01-04T00:00:00",
          "2023-01-05T00:00:00",
          "2023-01-06T00:00:00",
          "2023-01-09T00:00:00",
          "2023-01-10T00:00:00",
          "2023-01-11T00:00:00",
          "2023-01-12T00:00:00",
          "2023-01-13T00:00:00",
          "2023-01-17T00:00:00",
          "2023-01-18T00:00:00",
          "2023-01-19T00:00:00",
          "2023-01-20T00:00:00",
          "2023-01-23T00:00:00",
          "2023-01-24T00:00:00",
          "2023-01-25T00:00:00",
          "2023-01-26T00:00:00",
          "2023-01-27T00:00:00",
          "2023-01-30T00:00:00",
          "2023-01-31T00:00:00",
          "2023-02-01T00:00:00",
          "2023-02-02T00:00:00",
          "2023-02-03T00:00:00",
          "2023-02-06T00:00:00",
          "2023-02-07T00:00:00",
          "2023-02-08T00:00:00",
          "2023-02-09T00:00:00",
          "2023-02-10T00:00:00",
          "2023-02-13T00:00:00",
          "2023-02-14T00:00:00",
          "2023-02-15T00:00:00",
          "2023-02-16T00:00:00",
          "2023-02-17T00:00:00",
          "2023-02-21T00:00:00",
          "2023-02-22T00:00:00",
          "2023-02-23T00:00:00",
          "2023-02-24T00:00:00",
          "2023-02-27T00:00:00",
          "2023-02-28T00:00:00",
          "2023-03-01T00:00:00",
          "2023-03-02T00:00:00",
          "2023-03-03T00:00:00",
          "2023-03-06T00:00:00",
          "2023-03-07T00:00:00",
          "2023-03-08T00:00:00",
          "2023-03-09T00:00:00",
          "2023-03-10T00:00:00",
          "2023-03-13T00:00:00",
          "2023-03-14T00:00:00",
          "2023-03-15T00:00:00",
          "2023-03-16T00:00:00",
          "2023-03-17T00:00:00",
          "2023-03-20T00:00:00",
          "2023-03-21T00:00:00",
          "2023-03-22T00:00:00",
          "2023-03-23T00:00:00",
          "2023-03-24T00:00:00",
          "2023-03-27T00:00:00",
          "2023-03-28T00:00:00",
          "2023-03-29T00:00:00",
          "2023-03-30T00:00:00",
          "2023-03-31T00:00:00",
          "2023-04-03T00:00:00",
          "2023-04-04T00:00:00",
          "2023-04-05T00:00:00",
          "2023-04-06T00:00:00",
          "2023-04-10T00:00:00",
          "2023-04-11T00:00:00",
          "2023-04-12T00:00:00",
          "2023-04-13T00:00:00",
          "2023-04-14T00:00:00",
          "2023-04-17T00:00:00",
          "2023-04-18T00:00:00",
          "2023-04-19T00:00:00",
          "2023-04-20T00:00:00",
          "2023-04-21T00:00:00"
         ],
         "xaxis": "x",
         "y": [
          100,
          100.9386703234008,
          100.83279905663352,
          103.88171354532128,
          105.92843099825775,
          106.54245526794472,
          104.5027912414032,
          104.59453377663162,
          108.09513856877496,
          109.45020806760948,
          105.1238583509936,
          100.26113063362085,
          100.28230220506316,
          96.76759056013002,
          99.09662080462105,
          97.74860473218146,
          99.6824073726811,
          102.91481751831722,
          105.13797649604099,
          107.43171631827629,
          105.25090189496929,
          103.34532495807292,
          107.49523314990144,
          105.97784027132697,
          104.54513579581996,
          105.47674140056826,
          104.67216875330413,
          102.43489092476688,
          101.83498550589336,
          99.79532218511791,
          104.6015984952841,
          103.01362477219811,
          104.29105929436008,
          103.79702514225386,
          100.35288304957466,
          100.47286258066397,
          100.45874372985048,
          100.71282023131032,
          105.51203182282403,
          102.58310674595093,
          99.5906549567273,
          96.47116950425337,
          95.35605836183136,
          92.73060706146366,
          93.8527730418128,
          94.81967965530836,
          92.39889628909738,
          92.72355363506878,
          91.51668866516071,
          90.33100161858985,
          90.62742761482916,
          91.94720669140791,
          89.55465961529171,
          89.72404206755535,
          88.93358756533858,
          92.08130366177848,
          91.93308854636054,
          92.63180051334886,
          94.48796888294208,
          93.18229736491924,
          95.15844455983564,
          96.56292262597329,
          94.62911998547365,
          95.47603718715453,
          97.48041008567422,
          99.02603996010954,
          99.43538500338224,
          101.04453100367661,
          101.03747757728169,
          102.30785867304878,
          100.71282023131032,
          101.60914600029436,
          105.08856792873785,
          104.47455495130842,
          107.67873868757516,
          106.31660447008815,
          108.60329086592857,
          108.53271002141705,
          105.48380611922074,
          106.53539054929226,
          107.36113547376476,
          108.05984814651922,
          108.34215035158232,
          107.5234694399962,
          106.00606597493025,
          105.06739565152945,
          105.92843099825775,
          103.82525155162325,
          104.24871544570944,
          103.7829069972065,
          103.62763774962754,
          101.89851292400999,
          104.48160837770332,
          108.53976344781195,
          108.47624732195288,
          107.8481161994761,
          108.3774407738381,
          106.01313069358274,
          104.31928570372948,
          106.76829477354373,
          106.70477794191859,
          107.38937246962563,
          110.1559741667588,
          109.44315393544845,
          111.03112765853444,
          112.42854171178571,
          112.09683093941945,
          112.11800321662781,
          112.88023130947518,
          111.48987138838491,
          112.47793969259736,
          114.0023972898243,
          114.6446465573485,
          115.93619993032395,
          117.58063635287408,
          116.26791070269023,
          114.6375825444621,
          113.92476231315179,
          114.58113043148946,
          113.78361121062022,
          114.07297813433584,
          116.16203943592296,
          116.51492248549762,
          117.22775330329942,
          117.01602135625633,
          117.22068858464694,
          116.48669678189434
         ],
         "yaxis": "y"
        },
        {
         "legendgroup": "Benchmark",
         "legendgrouptitle": {
          "text": "Benchmark"
         },
         "line": {
          "color": "darkviolet",
          "width": 2
         },
         "name": "Benchmark NAV",
         "type": "scatter",
         "x": [
          "2022-10-19T00:00:00",
          "2022-10-20T00:00:00",
          "2022-10-21T00:00:00",
          "2022-10-24T00:00:00",
          "2022-10-25T00:00:00",
          "2022-10-26T00:00:00",
          "2022-10-27T00:00:00",
          "2022-10-28T00:00:00",
          "2022-10-31T00:00:00",
          "2022-11-01T00:00:00",
          "2022-11-02T00:00:00",
          "2022-11-03T00:00:00",
          "2022-11-04T00:00:00",
          "2022-11-07T00:00:00",
          "2022-11-08T00:00:00",
          "2022-11-09T00:00:00",
          "2022-11-10T00:00:00",
          "2022-11-11T00:00:00",
          "2022-11-14T00:00:00",
          "2022-11-15T00:00:00",
          "2022-11-16T00:00:00",
          "2022-11-17T00:00:00",
          "2022-11-18T00:00:00",
          "2022-11-21T00:00:00",
          "2022-11-22T00:00:00",
          "2022-11-23T00:00:00",
          "2022-11-25T00:00:00",
          "2022-11-28T00:00:00",
          "2022-11-29T00:00:00",
          "2022-11-30T00:00:00",
          "2022-12-01T00:00:00",
          "2022-12-02T00:00:00",
          "2022-12-05T00:00:00",
          "2022-12-06T00:00:00",
          "2022-12-07T00:00:00",
          "2022-12-08T00:00:00",
          "2022-12-09T00:00:00",
          "2022-12-12T00:00:00",
          "2022-12-13T00:00:00",
          "2022-12-14T00:00:00",
          "2022-12-15T00:00:00",
          "2022-12-16T00:00:00",
          "2022-12-19T00:00:00",
          "2022-12-20T00:00:00",
          "2022-12-21T00:00:00",
          "2022-12-22T00:00:00",
          "2022-12-23T00:00:00",
          "2022-12-27T00:00:00",
          "2022-12-28T00:00:00",
          "2022-12-29T00:00:00",
          "2022-12-30T00:00:00",
          "2023-01-03T00:00:00",
          "2023-01-04T00:00:00",
          "2023-01-05T00:00:00",
          "2023-01-06T00:00:00",
          "2023-01-09T00:00:00",
          "2023-01-10T00:00:00",
          "2023-01-11T00:00:00",
          "2023-01-12T00:00:00",
          "2023-01-13T00:00:00",
          "2023-01-17T00:00:00",
          "2023-01-18T00:00:00",
          "2023-01-19T00:00:00",
          "2023-01-20T00:00:00",
          "2023-01-23T00:00:00",
          "2023-01-24T00:00:00",
          "2023-01-25T00:00:00",
          "2023-01-26T00:00:00",
          "2023-01-27T00:00:00",
          "2023-01-30T00:00:00",
          "2023-01-31T00:00:00",
          "2023-02-01T00:00:00",
          "2023-02-02T00:00:00",
          "2023-02-03T00:00:00",
          "2023-02-06T00:00:00",
          "2023-02-07T00:00:00",
          "2023-02-08T00:00:00",
          "2023-02-09T00:00:00",
          "2023-02-10T00:00:00",
          "2023-02-13T00:00:00",
          "2023-02-14T00:00:00",
          "2023-02-15T00:00:00",
          "2023-02-16T00:00:00",
          "2023-02-17T00:00:00",
          "2023-02-21T00:00:00",
          "2023-02-22T00:00:00",
          "2023-02-23T00:00:00",
          "2023-02-24T00:00:00",
          "2023-02-27T00:00:00",
          "2023-02-28T00:00:00",
          "2023-03-01T00:00:00",
          "2023-03-02T00:00:00",
          "2023-03-03T00:00:00",
          "2023-03-06T00:00:00",
          "2023-03-07T00:00:00",
          "2023-03-08T00:00:00",
          "2023-03-09T00:00:00",
          "2023-03-10T00:00:00",
          "2023-03-13T00:00:00",
          "2023-03-14T00:00:00",
          "2023-03-15T00:00:00",
          "2023-03-16T00:00:00",
          "2023-03-17T00:00:00",
          "2023-03-20T00:00:00",
          "2023-03-21T00:00:00",
          "2023-03-22T00:00:00",
          "2023-03-23T00:00:00",
          "2023-03-24T00:00:00",
          "2023-03-27T00:00:00",
          "2023-03-28T00:00:00",
          "2023-03-29T00:00:00",
          "2023-03-30T00:00:00",
          "2023-03-31T00:00:00",
          "2023-04-03T00:00:00",
          "2023-04-04T00:00:00",
          "2023-04-05T00:00:00",
          "2023-04-06T00:00:00",
          "2023-04-10T00:00:00",
          "2023-04-11T00:00:00",
          "2023-04-12T00:00:00",
          "2023-04-13T00:00:00",
          "2023-04-14T00:00:00",
          "2023-04-17T00:00:00",
          "2023-04-18T00:00:00",
          "2023-04-19T00:00:00",
          "2023-04-20T00:00:00",
          "2023-04-21T00:00:00"
         ],
         "xaxis": "x",
         "y": [
          100,
          98.07958943576527,
          96.79090216573842,
          100.48009727150733,
          99.31774985931143,
          101.83195952414505,
          103.60075543649386,
          101.41502839128167,
          103.31016416146144,
          105.18003524497699,
          105.43271622406276,
          104.93998218723985,
          107.58054308071907,
          108.04800358691085,
          108.16171678681701,
          107.23941232496747,
          109.52621580477029,
          112.44472236399943,
          114.04926685914675,
          115.06000972684751,
          114.30195668219945,
          112.05306349834332,
          114.04926685914675,
          112.52052526795893,
          113.19013737990808,
          113.35438879710958,
          113.26595039125836,
          113.96082718987171,
          113.25331236251897,
          115.32532747124884,
          117.57422065510497,
          116.05811582923269,
          115.5780172943015,
          113.22804893927861,
          109.69045837800483,
          110.77700288624123,
          112.04042673302777,
          112.45735912931498,
          118.33228254371997,
          116.87934259306778,
          112.63423846786512,
          109.32406419901291,
          109.58938194341424,
          108.55337438904931,
          109.17245965451777,
          109.38723918162377,
          109.07138321992713,
          109.10928467190688,
          107.34048875955808,
          107.34048875955808,
          107.0119960325459,
          108.19961697537292,
          108.08591388285751,
          108.52811096580895,
          109.21035984307368,
          111.49715447890955,
          110.61276157643054,
          112.91219297758197,
          113.73341089745014,
          112.48262381597918,
          121.16234943367405,
          122.29943215920575,
          119.53253140789559,
          118.9260829077427,
          121.1244479816943,
          121.64244670518138,
          119.87365079283259,
          121.56664380122189,
          121.80669812238287,
          120.06316689669825,
          121.65508347049693,
          122.48893815568064,
          124.92734617997863,
          124.11875618145909,
          124.38407392586042,
          124.7883695568321,
          124.2198326160497,
          125.35691534158143,
          123.29752815420017,
          124.39671069117597,
          125.14213581447542,
          125.72330952057335,
          126.06443016893418,
          124.9526209740336,
          124.39671069117597,
          123.01958375187408,
          123.6639223331921,
          122.74162924215719,
          124.33354581595589,
          122.70372779017744,
          121.2381510742097,
          120.59380238550088,
          121.98357619750912,
          124.3714460045118,
          123.81553698507804,
          120.83385544323801,
          120.48009929298549,
          115.94440262932653,
          111.86354865790149,
          116.75300273523683,
          109.82943500115137,
          106.822490036071,
          109.2735259817176,
          106.8856549112911,
          111.47188979224536,
          112.12886640230279,
          111.11812353460205,
          106.7719518187757,
          108.73025372759939,
          106.83511795741963,
          108.56601115436486,
          110.2463673974386,
          109.66519369134065,
          111.11812353460205,
          109.91787467042641,
          105.91282360296086,
          106.00126327223593,
          106.064428147456,
          106.49399730905881,
          108.0353756655622,
          107.88376101367629,
          109.1977230777581,
          109.4883156162144,
          112.60896367381015,
          110.09475274555267,
          113.51863010692027,
          114.314593447515
         ],
         "yaxis": "y"
        },
        {
         "legendgroup": "Portfolio",
         "legendgrouptitle": {
          "text": "Drawdown"
         },
         "line": {
          "color": "#4285F4",
          "width": 2
         },
         "name": "Portfolio Drawdown",
         "type": "scatter",
         "x": [
          "2022-10-19T00:00:00",
          "2022-10-20T00:00:00",
          "2022-10-21T00:00:00",
          "2022-10-24T00:00:00",
          "2022-10-25T00:00:00",
          "2022-10-26T00:00:00",
          "2022-10-27T00:00:00",
          "2022-10-28T00:00:00",
          "2022-10-31T00:00:00",
          "2022-11-01T00:00:00",
          "2022-11-02T00:00:00",
          "2022-11-03T00:00:00",
          "2022-11-04T00:00:00",
          "2022-11-07T00:00:00",
          "2022-11-08T00:00:00",
          "2022-11-09T00:00:00",
          "2022-11-10T00:00:00",
          "2022-11-11T00:00:00",
          "2022-11-14T00:00:00",
          "2022-11-15T00:00:00",
          "2022-11-16T00:00:00",
          "2022-11-17T00:00:00",
          "2022-11-18T00:00:00",
          "2022-11-21T00:00:00",
          "2022-11-22T00:00:00",
          "2022-11-23T00:00:00",
          "2022-11-25T00:00:00",
          "2022-11-28T00:00:00",
          "2022-11-29T00:00:00",
          "2022-11-30T00:00:00",
          "2022-12-01T00:00:00",
          "2022-12-02T00:00:00",
          "2022-12-05T00:00:00",
          "2022-12-06T00:00:00",
          "2022-12-07T00:00:00",
          "2022-12-08T00:00:00",
          "2022-12-09T00:00:00",
          "2022-12-12T00:00:00",
          "2022-12-13T00:00:00",
          "2022-12-14T00:00:00",
          "2022-12-15T00:00:00",
          "2022-12-16T00:00:00",
          "2022-12-19T00:00:00",
          "2022-12-20T00:00:00",
          "2022-12-21T00:00:00",
          "2022-12-22T00:00:00",
          "2022-12-23T00:00:00",
          "2022-12-27T00:00:00",
          "2022-12-28T00:00:00",
          "2022-12-29T00:00:00",
          "2022-12-30T00:00:00",
          "2023-01-03T00:00:00",
          "2023-01-04T00:00:00",
          "2023-01-05T00:00:00",
          "2023-01-06T00:00:00",
          "2023-01-09T00:00:00",
          "2023-01-10T00:00:00",
          "2023-01-11T00:00:00",
          "2023-01-12T00:00:00",
          "2023-01-13T00:00:00",
          "2023-01-17T00:00:00",
          "2023-01-18T00:00:00",
          "2023-01-19T00:00:00",
          "2023-01-20T00:00:00",
          "2023-01-23T00:00:00",
          "2023-01-24T00:00:00",
          "2023-01-25T00:00:00",
          "2023-01-26T00:00:00",
          "2023-01-27T00:00:00",
          "2023-01-30T00:00:00",
          "2023-01-31T00:00:00",
          "2023-02-01T00:00:00",
          "2023-02-02T00:00:00",
          "2023-02-03T00:00:00",
          "2023-02-06T00:00:00",
          "2023-02-07T00:00:00",
          "2023-02-08T00:00:00",
          "2023-02-09T00:00:00",
          "2023-02-10T00:00:00",
          "2023-02-13T00:00:00",
          "2023-02-14T00:00:00",
          "2023-02-15T00:00:00",
          "2023-02-16T00:00:00",
          "2023-02-17T00:00:00",
          "2023-02-21T00:00:00",
          "2023-02-22T00:00:00",
          "2023-02-23T00:00:00",
          "2023-02-24T00:00:00",
          "2023-02-27T00:00:00",
          "2023-02-28T00:00:00",
          "2023-03-01T00:00:00",
          "2023-03-02T00:00:00",
          "2023-03-03T00:00:00",
          "2023-03-06T00:00:00",
          "2023-03-07T00:00:00",
          "2023-03-08T00:00:00",
          "2023-03-09T00:00:00",
          "2023-03-10T00:00:00",
          "2023-03-13T00:00:00",
          "2023-03-14T00:00:00",
          "2023-03-15T00:00:00",
          "2023-03-16T00:00:00",
          "2023-03-17T00:00:00",
          "2023-03-20T00:00:00",
          "2023-03-21T00:00:00",
          "2023-03-22T00:00:00",
          "2023-03-23T00:00:00",
          "2023-03-24T00:00:00",
          "2023-03-27T00:00:00",
          "2023-03-28T00:00:00",
          "2023-03-29T00:00:00",
          "2023-03-30T00:00:00",
          "2023-03-31T00:00:00",
          "2023-04-03T00:00:00",
          "2023-04-04T00:00:00",
          "2023-04-05T00:00:00",
          "2023-04-06T00:00:00",
          "2023-04-10T00:00:00",
          "2023-04-11T00:00:00",
          "2023-04-12T00:00:00",
          "2023-04-13T00:00:00",
          "2023-04-14T00:00:00",
          "2023-04-17T00:00:00",
          "2023-04-18T00:00:00",
          "2023-04-19T00:00:00",
          "2023-04-20T00:00:00",
          "2023-04-21T00:00:00"
         ],
         "xaxis": "x2",
         "y": [
          0,
          0,
          -0.0010488672619529682,
          0,
          0,
          0,
          -0.019144143256431878,
          -0.018283054266153842,
          0,
          0,
          -0.039528017287490336,
          -0.0839566922368239,
          -0.08376325659320016,
          -0.1158756820237854,
          -0.09459632325772116,
          -0.10691257277646937,
          -0.08924424053076829,
          -0.05971108383142798,
          -0.03939902580088972,
          -0.018442100613333956,
          -0.038367274460055834,
          -0.05577772045682594,
          -0.017861774337609493,
          -0.03172554769505387,
          -0.04481555913314994,
          -0.03630387495094334,
          -0.04365491302998581,
          -0.06409596899540937,
          -0.06957704965724743,
          -0.08821258591420456,
          -0.044299683462733164,
          -0.05880832397719493,
          -0.047136948063748685,
          -0.05165072799006054,
          -0.083118389436183,
          -0.08202218749004142,
          -0.08215118542492672,
          -0.07982979649432842,
          -0.03598144137243453,
          -0.0627417840760669,
          -0.09008254333140908,
          -0.11858395513820053,
          -0.1287722513699736,
          -0.1527598832504531,
          -0.1425071299650874,
          -0.13367291548010174,
          -0.1557905834950919,
          -0.15282432740747576,
          -0.16385093933645967,
          -0.1746840575872577,
          -0.1719757393348501,
          -0.15991747923758748,
          -0.1817771642793763,
          -0.1802295888544031,
          -0.1874516354468453,
          -0.1586922922531303,
          -0.16004647072418798,
          -0.15366263665640145,
          -0.13670361572474066,
          -0.14863298105967282,
          -0.13057776463015536,
          -0.11774564588927483,
          -0.1354139781349759,
          -0.12767605587211706,
          -0.10936295319366851,
          -0.09524119041473844,
          -0.09150117885605935,
          -0.07679909624968939,
          -0.0768635404067125,
          -0.06525660865028904,
          -0.07982979649432842,
          -0.07164044916636014,
          -0.03985045086599892,
          -0.045460426290167555,
          -0.016185162288042898,
          -0.02863040329339206,
          -0.007737922262859076,
          -0.008382789419876469,
          -0.036239327621365613,
          -0.026631447941302122,
          -0.01908696777035146,
          -0.012703127254280022,
          -0.010123852074750639,
          -0.01760379136440826,
          -0.031467661446122785,
          -0.04004389295790722,
          -0.03217697920844753,
          -0.05139283529284466,
          -0.04752382579928016,
          -0.051779719476660935,
          -0.0531983485530263,
          -0.06899662665725281,
          -0.04539598213314455,
          -0.008318345262853466,
          -0.008898665090293467,
          -0.014637632001062495,
          -0.00980141849624172,
          -0.03140311411654506,
          -0.04687905536653281,
          -0.02450350110261168,
          -0.025083827378336143,
          -0.018828978348865544,
          0,
          -0.006471008374282494,
          0,
          0,
          -0.0029504142570542236,
          -0.00276209662092719,
          0,
          -0.012317125017917596,
          -0.00356388016051179,
          0,
          0,
          0,
          0,
          -0.01116447138663379,
          -0.02503008913457061,
          -0.031092483874220256,
          -0.02551020316289776,
          -0.0322929460158603,
          -0.029831937701130684,
          -0.012064885519871948,
          -0.009063685147766343,
          -0.0030012003721056058,
          -0.004801938602571165,
          -0.003061284403555131,
          -0.009303739160729574
         ],
         "yaxis": "y2"
        },
        {
         "legendgroup": "Benchmark",
         "legendgrouptitle": {
          "text": "Benchmark_Drawdown"
         },
         "line": {
          "color": "darkviolet",
          "width": 2
         },
         "name": "Benchmark_Drawdown",
         "type": "scatter",
         "x": [
          "2022-10-19T00:00:00",
          "2022-10-20T00:00:00",
          "2022-10-21T00:00:00",
          "2022-10-24T00:00:00",
          "2022-10-25T00:00:00",
          "2022-10-26T00:00:00",
          "2022-10-27T00:00:00",
          "2022-10-28T00:00:00",
          "2022-10-31T00:00:00",
          "2022-11-01T00:00:00",
          "2022-11-02T00:00:00",
          "2022-11-03T00:00:00",
          "2022-11-04T00:00:00",
          "2022-11-07T00:00:00",
          "2022-11-08T00:00:00",
          "2022-11-09T00:00:00",
          "2022-11-10T00:00:00",
          "2022-11-11T00:00:00",
          "2022-11-14T00:00:00",
          "2022-11-15T00:00:00",
          "2022-11-16T00:00:00",
          "2022-11-17T00:00:00",
          "2022-11-18T00:00:00",
          "2022-11-21T00:00:00",
          "2022-11-22T00:00:00",
          "2022-11-23T00:00:00",
          "2022-11-25T00:00:00",
          "2022-11-28T00:00:00",
          "2022-11-29T00:00:00",
          "2022-11-30T00:00:00",
          "2022-12-01T00:00:00",
          "2022-12-02T00:00:00",
          "2022-12-05T00:00:00",
          "2022-12-06T00:00:00",
          "2022-12-07T00:00:00",
          "2022-12-08T00:00:00",
          "2022-12-09T00:00:00",
          "2022-12-12T00:00:00",
          "2022-12-13T00:00:00",
          "2022-12-14T00:00:00",
          "2022-12-15T00:00:00",
          "2022-12-16T00:00:00",
          "2022-12-19T00:00:00",
          "2022-12-20T00:00:00",
          "2022-12-21T00:00:00",
          "2022-12-22T00:00:00",
          "2022-12-23T00:00:00",
          "2022-12-27T00:00:00",
          "2022-12-28T00:00:00",
          "2022-12-29T00:00:00",
          "2022-12-30T00:00:00",
          "2023-01-03T00:00:00",
          "2023-01-04T00:00:00",
          "2023-01-05T00:00:00",
          "2023-01-06T00:00:00",
          "2023-01-09T00:00:00",
          "2023-01-10T00:00:00",
          "2023-01-11T00:00:00",
          "2023-01-12T00:00:00",
          "2023-01-13T00:00:00",
          "2023-01-17T00:00:00",
          "2023-01-18T00:00:00",
          "2023-01-19T00:00:00",
          "2023-01-20T00:00:00",
          "2023-01-23T00:00:00",
          "2023-01-24T00:00:00",
          "2023-01-25T00:00:00",
          "2023-01-26T00:00:00",
          "2023-01-27T00:00:00",
          "2023-01-30T00:00:00",
          "2023-01-31T00:00:00",
          "2023-02-01T00:00:00",
          "2023-02-02T00:00:00",
          "2023-02-03T00:00:00",
          "2023-02-06T00:00:00",
          "2023-02-07T00:00:00",
          "2023-02-08T00:00:00",
          "2023-02-09T00:00:00",
          "2023-02-10T00:00:00",
          "2023-02-13T00:00:00",
          "2023-02-14T00:00:00",
          "2023-02-15T00:00:00",
          "2023-02-16T00:00:00",
          "2023-02-17T00:00:00",
          "2023-02-21T00:00:00",
          "2023-02-22T00:00:00",
          "2023-02-23T00:00:00",
          "2023-02-24T00:00:00",
          "2023-02-27T00:00:00",
          "2023-02-28T00:00:00",
          "2023-03-01T00:00:00",
          "2023-03-02T00:00:00",
          "2023-03-03T00:00:00",
          "2023-03-06T00:00:00",
          "2023-03-07T00:00:00",
          "2023-03-08T00:00:00",
          "2023-03-09T00:00:00",
          "2023-03-10T00:00:00",
          "2023-03-13T00:00:00",
          "2023-03-14T00:00:00",
          "2023-03-15T00:00:00",
          "2023-03-16T00:00:00",
          "2023-03-17T00:00:00",
          "2023-03-20T00:00:00",
          "2023-03-21T00:00:00",
          "2023-03-22T00:00:00",
          "2023-03-23T00:00:00",
          "2023-03-24T00:00:00",
          "2023-03-27T00:00:00",
          "2023-03-28T00:00:00",
          "2023-03-29T00:00:00",
          "2023-03-30T00:00:00",
          "2023-03-31T00:00:00",
          "2023-04-03T00:00:00",
          "2023-04-04T00:00:00",
          "2023-04-05T00:00:00",
          "2023-04-06T00:00:00",
          "2023-04-10T00:00:00",
          "2023-04-11T00:00:00",
          "2023-04-12T00:00:00",
          "2023-04-13T00:00:00",
          "2023-04-14T00:00:00",
          "2023-04-17T00:00:00",
          "2023-04-18T00:00:00",
          "2023-04-19T00:00:00",
          "2023-04-20T00:00:00",
          "2023-04-21T00:00:00"
         ],
         "xaxis": "x2",
         "y": [
          0,
          -0.019204105642347313,
          -0.03209097834261587,
          0,
          -0.011567936773141496,
          0,
          0,
          -0.021097597560975512,
          -0.002804914634146116,
          0,
          0,
          -0.004673445344761551,
          0,
          0,
          0,
          -0.00852708785741041,
          0,
          0,
          0,
          0,
          -0.006588327660041804,
          -0.026133721313275404,
          -0.008784484462501463,
          -0.02207095640715928,
          -0.016251279235752758,
          -0.014823750960799353,
          -0.015592379488305719,
          -0.009553123970572064,
          -0.015702218074008845,
          0,
          0,
          -0.012894874551791835,
          -0.016978240210149265,
          -0.036965345733190325,
          -0.06705349381159453,
          -0.057812143946102346,
          -0.04706638828855314,
          -0.043520267430050885,
          0,
          -0.012278474811938,
          -0.04815291274170774,
          -0.0761264648248361,
          -0.07388432313114146,
          -0.08263939429257328,
          -0.07740764136631895,
          -0.07559258699156157,
          -0.07826181600419346,
          -0.07794151919959369,
          -0.09288922302416314,
          -0.09288922302416314,
          -0.09566524255113218,
          -0.08562892010980483,
          -0.08658979984668813,
          -0.08285288990591977,
          -0.07708735523863519,
          -0.057762158541014075,
          -0.06523596774563456,
          -0.04580398053367607,
          -0.03886404916232977,
          -0.049434174698519184,
          0,
          0,
          -0.022623986902149285,
          -0.02758270575673427,
          -0.0096074377187777,
          -0.00537194198227442,
          -0.019834772112558574,
          -0.005991756012652116,
          -0.0040289151643930765,
          -0.018285164722567138,
          -0.005268615539195776,
          0,
          0,
          -0.006472481992490509,
          -0.004348705633557048,
          -0.0011124595806775162,
          -0.00566340025273282,
          0,
          -0.016428189715499086,
          -0.007659766098974452,
          -0.0017133440665858535,
          0,
          0,
          -0.008819372708151696,
          -0.013229104161446403,
          -0.024153097055052086,
          -0.01904191239769415,
          -0.026357957770675178,
          -0.013730156481561062,
          -0.026658609206841266,
          -0.03828422567933687,
          -0.04339549051308378,
          -0.03237117691292035,
          -0.013429515067443498,
          -0.01783923649868946,
          -0.04149128123362689,
          -0.04429743479953341,
          -0.08027662938741864,
          -0.11264780630033888,
          -0.07386244812449838,
          -0.12878331457990888,
          -0.152635760198795,
          -0.13319303601115495,
          -0.15213470787868022,
          -0.11575462132446013,
          -0.11054318611488478,
          -0.11856085506675551,
          -0.15303665216512985,
          -0.13750251691223225,
          -0.15253558982296656,
          -0.13880536318706516,
          -0.1254760184954502,
          -0.13008615083269348,
          -0.11856085506675551,
          -0.12808177117740804,
          -0.15985164521799622,
          -0.15915010181549516,
          -0.1586490494953805,
          -0.15524151288075283,
          -0.14301460355797369,
          -0.14421727945697815,
          -0.13379433888348713,
          -0.13148922761564674,
          -0.106734837710311,
          -0.1266786943944549,
          -0.09951895269111011,
          -0.09320501195835873
         ],
         "yaxis": "y2"
        },
        {
         "legendgroup": "Portfolio",
         "legendgrouptitle": {
          "text": "Portfolio_sharpe"
         },
         "line": {
          "color": "#4285F4",
          "width": 2
         },
         "name": "Portfolio_Sharpe",
         "type": "scatter",
         "x": [
          "2022-10-19T00:00:00",
          "2022-10-20T00:00:00",
          "2022-10-21T00:00:00",
          "2022-10-24T00:00:00",
          "2022-10-25T00:00:00",
          "2022-10-26T00:00:00",
          "2022-10-27T00:00:00",
          "2022-10-28T00:00:00",
          "2022-10-31T00:00:00",
          "2022-11-01T00:00:00",
          "2022-11-02T00:00:00",
          "2022-11-03T00:00:00",
          "2022-11-04T00:00:00",
          "2022-11-07T00:00:00",
          "2022-11-08T00:00:00",
          "2022-11-09T00:00:00",
          "2022-11-10T00:00:00",
          "2022-11-11T00:00:00",
          "2022-11-14T00:00:00",
          "2022-11-15T00:00:00",
          "2022-11-16T00:00:00",
          "2022-11-17T00:00:00",
          "2022-11-18T00:00:00",
          "2022-11-21T00:00:00",
          "2022-11-22T00:00:00",
          "2022-11-23T00:00:00",
          "2022-11-25T00:00:00",
          "2022-11-28T00:00:00",
          "2022-11-29T00:00:00",
          "2022-11-30T00:00:00",
          "2022-12-01T00:00:00",
          "2022-12-02T00:00:00",
          "2022-12-05T00:00:00",
          "2022-12-06T00:00:00",
          "2022-12-07T00:00:00",
          "2022-12-08T00:00:00",
          "2022-12-09T00:00:00",
          "2022-12-12T00:00:00",
          "2022-12-13T00:00:00",
          "2022-12-14T00:00:00",
          "2022-12-15T00:00:00",
          "2022-12-16T00:00:00",
          "2022-12-19T00:00:00",
          "2022-12-20T00:00:00",
          "2022-12-21T00:00:00",
          "2022-12-22T00:00:00",
          "2022-12-23T00:00:00",
          "2022-12-27T00:00:00",
          "2022-12-28T00:00:00",
          "2022-12-29T00:00:00",
          "2022-12-30T00:00:00",
          "2023-01-03T00:00:00",
          "2023-01-04T00:00:00",
          "2023-01-05T00:00:00",
          "2023-01-06T00:00:00",
          "2023-01-09T00:00:00",
          "2023-01-10T00:00:00",
          "2023-01-11T00:00:00",
          "2023-01-12T00:00:00",
          "2023-01-13T00:00:00",
          "2023-01-17T00:00:00",
          "2023-01-18T00:00:00",
          "2023-01-19T00:00:00",
          "2023-01-20T00:00:00",
          "2023-01-23T00:00:00",
          "2023-01-24T00:00:00",
          "2023-01-25T00:00:00",
          "2023-01-26T00:00:00",
          "2023-01-27T00:00:00",
          "2023-01-30T00:00:00",
          "2023-01-31T00:00:00",
          "2023-02-01T00:00:00",
          "2023-02-02T00:00:00",
          "2023-02-03T00:00:00",
          "2023-02-06T00:00:00",
          "2023-02-07T00:00:00",
          "2023-02-08T00:00:00",
          "2023-02-09T00:00:00",
          "2023-02-10T00:00:00",
          "2023-02-13T00:00:00",
          "2023-02-14T00:00:00",
          "2023-02-15T00:00:00",
          "2023-02-16T00:00:00",
          "2023-02-17T00:00:00",
          "2023-02-21T00:00:00",
          "2023-02-22T00:00:00",
          "2023-02-23T00:00:00",
          "2023-02-24T00:00:00",
          "2023-02-27T00:00:00",
          "2023-02-28T00:00:00",
          "2023-03-01T00:00:00",
          "2023-03-02T00:00:00",
          "2023-03-03T00:00:00",
          "2023-03-06T00:00:00",
          "2023-03-07T00:00:00",
          "2023-03-08T00:00:00",
          "2023-03-09T00:00:00",
          "2023-03-10T00:00:00",
          "2023-03-13T00:00:00",
          "2023-03-14T00:00:00",
          "2023-03-15T00:00:00",
          "2023-03-16T00:00:00",
          "2023-03-17T00:00:00",
          "2023-03-20T00:00:00",
          "2023-03-21T00:00:00",
          "2023-03-22T00:00:00",
          "2023-03-23T00:00:00",
          "2023-03-24T00:00:00",
          "2023-03-27T00:00:00",
          "2023-03-28T00:00:00",
          "2023-03-29T00:00:00",
          "2023-03-30T00:00:00",
          "2023-03-31T00:00:00",
          "2023-04-03T00:00:00",
          "2023-04-04T00:00:00",
          "2023-04-05T00:00:00",
          "2023-04-06T00:00:00",
          "2023-04-10T00:00:00",
          "2023-04-11T00:00:00",
          "2023-04-12T00:00:00",
          "2023-04-13T00:00:00",
          "2023-04-14T00:00:00",
          "2023-04-17T00:00:00",
          "2023-04-18T00:00:00",
          "2023-04-19T00:00:00",
          "2023-04-20T00:00:00",
          "2023-04-21T00:00:00"
         ],
         "xaxis": "x3",
         "y": [
          -0.0427757,
          0.8954246234007996,
          1.5351037025487777,
          2.2180632233572655,
          2.2950143670282492,
          4.664679761221249,
          4.260941186652178,
          3.949668429656194,
          3.930786145427837,
          3.753844170049332,
          2.2950580888745384,
          0.04694540561340766,
          0.0845287514467813,
          -1.6202483776090038,
          -0.5309036582802691,
          -1.9649766732384004,
          -0.3671658196619938,
          1.0990700598529748,
          1.8559906797266053,
          3.2699066424615135,
          4.025101930384603,
          1.613198108567909,
          3.5857787070871705,
          2.824549672350961,
          3.049072941845417,
          7.467368879269889,
          9.154450159821035,
          1.5147882284173737,
          1.195359762928854,
          -0.18245790969303824,
          1.8878165737518053,
          1.2113327457306722,
          5.042454563824949,
          5.821069875845878,
          0.14246967995510018,
          0.2176792792558278,
          6.273868149224334,
          4.659242142853559,
          1.9193282723579905,
          1.0482665807900682,
          -0.15425918415947462,
          -1.1701794346440881,
          -2.1373397759290595,
          -3.810044720249933,
          -4.702334674829975,
          -5.000068696211566,
          -6.276729031044808,
          -5.573664013600674,
          -13.659278543237702,
          -8.122214299834152,
          -15.26657289100684,
          -9.414857582984164,
          -8.75605190721198,
          -7.732636485167021,
          -26.705961653068115,
          -4.864873273852587,
          -4.5689943138955735,
          -20.14483331804709,
          -4.211046270218212,
          -7.201627834076921,
          -4.865476698068059,
          -2.0520833534738627,
          -5.422497281787435,
          -4.716540671007769,
          -1.7536079734279526,
          -0.574278777396249,
          -0.594303845040621,
          0.9339136090355672,
          1.0671116220516927,
          3.0894707054127766,
          0.7885191265228051,
          1.9525604780601469,
          2.1806639419776905,
          2.3833411631743977,
          4.4867616481299235,
          3.897934478086792,
          7.43692749891752,
          6.5245204626358015,
          3.051701860239196,
          4.188501560966597,
          7.771514515143238,
          10.497933555945828,
          16.421343187796076,
          17.973174352860305,
          5.025473955815798,
          4.048992482517759,
          11.284253366474452,
          3.5709956603942965,
          3.7749234470800546,
          14.493213043368355,
          11.069352801528433,
          1.7673269328126489,
          3.3675428274392702,
          2.5358874627837715,
          3.624302676920108,
          20.394179755387455,
          24.650263557589756,
          4.804811737286109,
          2.09520139099166,
          5.357413554331523,
          4.767829184559626,
          19.404449846174604,
          5.530647255312565,
          6.539542914585449,
          13.80611597407832,
          8.286591853440546,
          16.4977832729826,
          64.97991206811703,
          28.744141744346535,
          16.428193239268907,
          17.368559824053882,
          11.02146188280861,
          13.112517278543029,
          16.127473384739897,
          11.911755587911117,
          18.64695875174106,
          9.892701079859183,
          11.549678787032407,
          36.66485955934897,
          32.26340154393546,
          34.727082880130446,
          12.413408915802028,
          12.47297217076049,
          31.636496389695633,
          46.33881750616708,
          142.76181287766795,
          43.38776661266266
         ],
         "yaxis": "y3"
        },
        {
         "legendgroup": "Benchmark",
         "legendgrouptitle": {
          "text": "Benchmark_sharpe"
         },
         "line": {
          "color": "darkviolet",
          "width": 2
         },
         "name": "Benchmark_Sharpe",
         "type": "scatter",
         "x": [
          "2022-10-19T00:00:00",
          "2022-10-20T00:00:00",
          "2022-10-21T00:00:00",
          "2022-10-24T00:00:00",
          "2022-10-25T00:00:00",
          "2022-10-26T00:00:00",
          "2022-10-27T00:00:00",
          "2022-10-28T00:00:00",
          "2022-10-31T00:00:00",
          "2022-11-01T00:00:00",
          "2022-11-02T00:00:00",
          "2022-11-03T00:00:00",
          "2022-11-04T00:00:00",
          "2022-11-07T00:00:00",
          "2022-11-08T00:00:00",
          "2022-11-09T00:00:00",
          "2022-11-10T00:00:00",
          "2022-11-11T00:00:00",
          "2022-11-14T00:00:00",
          "2022-11-15T00:00:00",
          "2022-11-16T00:00:00",
          "2022-11-17T00:00:00",
          "2022-11-18T00:00:00",
          "2022-11-21T00:00:00",
          "2022-11-22T00:00:00",
          "2022-11-23T00:00:00",
          "2022-11-25T00:00:00",
          "2022-11-28T00:00:00",
          "2022-11-29T00:00:00",
          "2022-11-30T00:00:00",
          "2022-12-01T00:00:00",
          "2022-12-02T00:00:00",
          "2022-12-05T00:00:00",
          "2022-12-06T00:00:00",
          "2022-12-07T00:00:00",
          "2022-12-08T00:00:00",
          "2022-12-09T00:00:00",
          "2022-12-12T00:00:00",
          "2022-12-13T00:00:00",
          "2022-12-14T00:00:00",
          "2022-12-15T00:00:00",
          "2022-12-16T00:00:00",
          "2022-12-19T00:00:00",
          "2022-12-20T00:00:00",
          "2022-12-21T00:00:00",
          "2022-12-22T00:00:00",
          "2022-12-23T00:00:00",
          "2022-12-27T00:00:00",
          "2022-12-28T00:00:00",
          "2022-12-29T00:00:00",
          "2022-12-30T00:00:00",
          "2023-01-03T00:00:00",
          "2023-01-04T00:00:00",
          "2023-01-05T00:00:00",
          "2023-01-06T00:00:00",
          "2023-01-09T00:00:00",
          "2023-01-10T00:00:00",
          "2023-01-11T00:00:00",
          "2023-01-12T00:00:00",
          "2023-01-13T00:00:00",
          "2023-01-17T00:00:00",
          "2023-01-18T00:00:00",
          "2023-01-19T00:00:00",
          "2023-01-20T00:00:00",
          "2023-01-23T00:00:00",
          "2023-01-24T00:00:00",
          "2023-01-25T00:00:00",
          "2023-01-26T00:00:00",
          "2023-01-27T00:00:00",
          "2023-01-30T00:00:00",
          "2023-01-31T00:00:00",
          "2023-02-01T00:00:00",
          "2023-02-02T00:00:00",
          "2023-02-03T00:00:00",
          "2023-02-06T00:00:00",
          "2023-02-07T00:00:00",
          "2023-02-08T00:00:00",
          "2023-02-09T00:00:00",
          "2023-02-10T00:00:00",
          "2023-02-13T00:00:00",
          "2023-02-14T00:00:00",
          "2023-02-15T00:00:00",
          "2023-02-16T00:00:00",
          "2023-02-17T00:00:00",
          "2023-02-21T00:00:00",
          "2023-02-22T00:00:00",
          "2023-02-23T00:00:00",
          "2023-02-24T00:00:00",
          "2023-02-27T00:00:00",
          "2023-02-28T00:00:00",
          "2023-03-01T00:00:00",
          "2023-03-02T00:00:00",
          "2023-03-03T00:00:00",
          "2023-03-06T00:00:00",
          "2023-03-07T00:00:00",
          "2023-03-08T00:00:00",
          "2023-03-09T00:00:00",
          "2023-03-10T00:00:00",
          "2023-03-13T00:00:00",
          "2023-03-14T00:00:00",
          "2023-03-15T00:00:00",
          "2023-03-16T00:00:00",
          "2023-03-17T00:00:00",
          "2023-03-20T00:00:00",
          "2023-03-21T00:00:00",
          "2023-03-22T00:00:00",
          "2023-03-23T00:00:00",
          "2023-03-24T00:00:00",
          "2023-03-27T00:00:00",
          "2023-03-28T00:00:00",
          "2023-03-29T00:00:00",
          "2023-03-30T00:00:00",
          "2023-03-31T00:00:00",
          "2023-04-03T00:00:00",
          "2023-04-04T00:00:00",
          "2023-04-05T00:00:00",
          "2023-04-06T00:00:00",
          "2023-04-10T00:00:00",
          "2023-04-11T00:00:00",
          "2023-04-12T00:00:00",
          "2023-04-13T00:00:00",
          "2023-04-14T00:00:00",
          "2023-04-17T00:00:00",
          "2023-04-18T00:00:00",
          "2023-04-19T00:00:00",
          "2023-04-20T00:00:00",
          "2023-04-21T00:00:00"
         ],
         "xaxis": "x3",
         "y": [
          -0.0427757,
          -1.9636562642347286,
          -2.014195868915561,
          0.23330976476053195,
          -0.38481379169118424,
          1.4211463544480274,
          1.6524789564093698,
          1.181121124112596,
          2.751174395743163,
          2.727962951466681,
          4.64684395542218,
          19.8652027255501,
          5.366562576608259,
          4.775141846665136,
          26.349320794153876,
          14.303522188142992,
          8.239613981833932,
          4.752200602745825,
          6.106468095286992,
          11.383954393046634,
          27.100826427165973,
          7.677370690897537,
          11.366225523034988,
          11.947183702113755,
          17.150856876319786,
          30.125157155657917,
          160.79756693791182,
          36.783725096554925,
          32.61595211813445,
          14.505500883697323,
          8.110182684167079,
          13.959354150648851,
          14.905568899871508,
          8.703049757252913,
          3.2538052326084723,
          5.921037174225654,
          10.197402915027366,
          14.182789378248092,
          5.196807583894721,
          5.500740102111212,
          4.251103195879389,
          2.4494188290401993,
          5.187759425978776,
          15.805559847362165,
          17.50528428086541,
          21.572422102756114,
          55.94518793233657,
          52.544824965405795,
          7.217755143254067,
          7.141445841903278,
          36.72093935081898,
          13.292784960834597,
          12.265795028944982,
          36.92921831402273,
          16.174095772526016,
          7.362414432007527,
          9.161728809100708,
          11.090880879857155,
          8.46001144183008,
          19.565846851115683,
          4.50004475237722,
          4.143893980981869,
          14.010045361635806,
          10.497730943789447,
          18.56287384084297,
          14.973044808254116,
          21.801950329611625,
          21.517525028946913,
          20.65139082022872,
          21.180282928508742,
          22.371135965953776,
          18.208146607932132,
          14.631139911199098,
          19.379764942497737,
          59.041243195778684,
          73.36827893313738,
          82.6104160139018,
          44.51424522255323,
          22.537580528389153,
          23.62801421201446,
          27.042065468386365,
          38.608802604205145,
          55.78819788720351,
          43.723459822112304,
          28.67241381797656,
          23.081849965959723,
          34.271531717762386,
          47.96265805218106,
          30.381740936197946,
          24.353195717841867,
          13.683815039562068,
          18.999806581478282,
          31.536679219911335,
          12.729226787468445,
          19.02030303406168,
          10.924603796468933,
          11.150029276047643,
          5.82898664527591,
          2.741097474313675,
          6.373284736508638,
          2.7484035210651423,
          1.3300058333023954,
          5.765026945151805,
          4.892671803673195,
          4.97945007524218,
          4.2283228868843326,
          21.577083823375613,
          2.36131833625656,
          3.9872912298483696,
          6.095656106220704,
          8.109273707752031,
          5.976829887036384,
          11.26490794139484,
          15.131985371896159,
          12.709302851063155,
          2.1501794462888326,
          2.601104847646034,
          78.95264562572555,
          24.025655141222984,
          7.70233593510396,
          9.218149746308606,
          12.72172670793878,
          11.036638982229173,
          6.639471640366691,
          6.068991503468397,
          7.5928664043580225,
          6.360864080905913
         ],
         "yaxis": "y3"
        }
       ],
       "layout": {
        "annotations": [
         {
          "font": {
           "size": 16
          },
          "showarrow": false,
          "text": "NAV",
          "x": 0.5,
          "xanchor": "center",
          "xref": "paper",
          "y": 1,
          "yanchor": "bottom",
          "yref": "paper"
         },
         {
          "font": {
           "size": 16
          },
          "showarrow": false,
          "text": "Max Drawdown",
          "x": 0.5,
          "xanchor": "center",
          "xref": "paper",
          "y": 0.6333333333333333,
          "yanchor": "bottom",
          "yref": "paper"
         },
         {
          "font": {
           "size": 16
          },
          "showarrow": false,
          "text": "Sharpe Ratio",
          "x": 0.5,
          "xanchor": "center",
          "xref": "paper",
          "y": 0.26666666666666666,
          "yanchor": "bottom",
          "yref": "paper"
         }
        ],
        "font": {
         "family": "Consolas"
        },
        "height": 800,
        "template": {
         "data": {
          "bar": [
           {
            "error_x": {
             "color": "#2a3f5f"
            },
            "error_y": {
             "color": "#2a3f5f"
            },
            "marker": {
             "line": {
              "color": "#E5ECF6",
              "width": 0.5
             },
             "pattern": {
              "fillmode": "overlay",
              "size": 10,
              "solidity": 0.2
             }
            },
            "type": "bar"
           }
          ],
          "barpolar": [
           {
            "marker": {
             "line": {
              "color": "#E5ECF6",
              "width": 0.5
             },
             "pattern": {
              "fillmode": "overlay",
              "size": 10,
              "solidity": 0.2
             }
            },
            "type": "barpolar"
           }
          ],
          "carpet": [
           {
            "aaxis": {
             "endlinecolor": "#2a3f5f",
             "gridcolor": "white",
             "linecolor": "white",
             "minorgridcolor": "white",
             "startlinecolor": "#2a3f5f"
            },
            "baxis": {
             "endlinecolor": "#2a3f5f",
             "gridcolor": "white",
             "linecolor": "white",
             "minorgridcolor": "white",
             "startlinecolor": "#2a3f5f"
            },
            "type": "carpet"
           }
          ],
          "choropleth": [
           {
            "colorbar": {
             "outlinewidth": 0,
             "ticks": ""
            },
            "type": "choropleth"
           }
          ],
          "contour": [
           {
            "colorbar": {
             "outlinewidth": 0,
             "ticks": ""
            },
            "colorscale": [
             [
              0,
              "#0d0887"
             ],
             [
              0.1111111111111111,
              "#46039f"
             ],
             [
              0.2222222222222222,
              "#7201a8"
             ],
             [
              0.3333333333333333,
              "#9c179e"
             ],
             [
              0.4444444444444444,
              "#bd3786"
             ],
             [
              0.5555555555555556,
              "#d8576b"
             ],
             [
              0.6666666666666666,
              "#ed7953"
             ],
             [
              0.7777777777777778,
              "#fb9f3a"
             ],
             [
              0.8888888888888888,
              "#fdca26"
             ],
             [
              1,
              "#f0f921"
             ]
            ],
            "type": "contour"
           }
          ],
          "contourcarpet": [
           {
            "colorbar": {
             "outlinewidth": 0,
             "ticks": ""
            },
            "type": "contourcarpet"
           }
          ],
          "heatmap": [
           {
            "colorbar": {
             "outlinewidth": 0,
             "ticks": ""
            },
            "colorscale": [
             [
              0,
              "#0d0887"
             ],
             [
              0.1111111111111111,
              "#46039f"
             ],
             [
              0.2222222222222222,
              "#7201a8"
             ],
             [
              0.3333333333333333,
              "#9c179e"
             ],
             [
              0.4444444444444444,
              "#bd3786"
             ],
             [
              0.5555555555555556,
              "#d8576b"
             ],
             [
              0.6666666666666666,
              "#ed7953"
             ],
             [
              0.7777777777777778,
              "#fb9f3a"
             ],
             [
              0.8888888888888888,
              "#fdca26"
             ],
             [
              1,
              "#f0f921"
             ]
            ],
            "type": "heatmap"
           }
          ],
          "heatmapgl": [
           {
            "colorbar": {
             "outlinewidth": 0,
             "ticks": ""
            },
            "colorscale": [
             [
              0,
              "#0d0887"
             ],
             [
              0.1111111111111111,
              "#46039f"
             ],
             [
              0.2222222222222222,
              "#7201a8"
             ],
             [
              0.3333333333333333,
              "#9c179e"
             ],
             [
              0.4444444444444444,
              "#bd3786"
             ],
             [
              0.5555555555555556,
              "#d8576b"
             ],
             [
              0.6666666666666666,
              "#ed7953"
             ],
             [
              0.7777777777777778,
              "#fb9f3a"
             ],
             [
              0.8888888888888888,
              "#fdca26"
             ],
             [
              1,
              "#f0f921"
             ]
            ],
            "type": "heatmapgl"
           }
          ],
          "histogram": [
           {
            "marker": {
             "pattern": {
              "fillmode": "overlay",
              "size": 10,
              "solidity": 0.2
             }
            },
            "type": "histogram"
           }
          ],
          "histogram2d": [
           {
            "colorbar": {
             "outlinewidth": 0,
             "ticks": ""
            },
            "colorscale": [
             [
              0,
              "#0d0887"
             ],
             [
              0.1111111111111111,
              "#46039f"
             ],
             [
              0.2222222222222222,
              "#7201a8"
             ],
             [
              0.3333333333333333,
              "#9c179e"
             ],
             [
              0.4444444444444444,
              "#bd3786"
             ],
             [
              0.5555555555555556,
              "#d8576b"
             ],
             [
              0.6666666666666666,
              "#ed7953"
             ],
             [
              0.7777777777777778,
              "#fb9f3a"
             ],
             [
              0.8888888888888888,
              "#fdca26"
             ],
             [
              1,
              "#f0f921"
             ]
            ],
            "type": "histogram2d"
           }
          ],
          "histogram2dcontour": [
           {
            "colorbar": {
             "outlinewidth": 0,
             "ticks": ""
            },
            "colorscale": [
             [
              0,
              "#0d0887"
             ],
             [
              0.1111111111111111,
              "#46039f"
             ],
             [
              0.2222222222222222,
              "#7201a8"
             ],
             [
              0.3333333333333333,
              "#9c179e"
             ],
             [
              0.4444444444444444,
              "#bd3786"
             ],
             [
              0.5555555555555556,
              "#d8576b"
             ],
             [
              0.6666666666666666,
              "#ed7953"
             ],
             [
              0.7777777777777778,
              "#fb9f3a"
             ],
             [
              0.8888888888888888,
              "#fdca26"
             ],
             [
              1,
              "#f0f921"
             ]
            ],
            "type": "histogram2dcontour"
           }
          ],
          "mesh3d": [
           {
            "colorbar": {
             "outlinewidth": 0,
             "ticks": ""
            },
            "type": "mesh3d"
           }
          ],
          "parcoords": [
           {
            "line": {
             "colorbar": {
              "outlinewidth": 0,
              "ticks": ""
             }
            },
            "type": "parcoords"
           }
          ],
          "pie": [
           {
            "automargin": true,
            "type": "pie"
           }
          ],
          "scatter": [
           {
            "fillpattern": {
             "fillmode": "overlay",
             "size": 10,
             "solidity": 0.2
            },
            "type": "scatter"
           }
          ],
          "scatter3d": [
           {
            "line": {
             "colorbar": {
              "outlinewidth": 0,
              "ticks": ""
             }
            },
            "marker": {
             "colorbar": {
              "outlinewidth": 0,
              "ticks": ""
             }
            },
            "type": "scatter3d"
           }
          ],
          "scattercarpet": [
           {
            "marker": {
             "colorbar": {
              "outlinewidth": 0,
              "ticks": ""
             }
            },
            "type": "scattercarpet"
           }
          ],
          "scattergeo": [
           {
            "marker": {
             "colorbar": {
              "outlinewidth": 0,
              "ticks": ""
             }
            },
            "type": "scattergeo"
           }
          ],
          "scattergl": [
           {
            "marker": {
             "colorbar": {
              "outlinewidth": 0,
              "ticks": ""
             }
            },
            "type": "scattergl"
           }
          ],
          "scattermapbox": [
           {
            "marker": {
             "colorbar": {
              "outlinewidth": 0,
              "ticks": ""
             }
            },
            "type": "scattermapbox"
           }
          ],
          "scatterpolar": [
           {
            "marker": {
             "colorbar": {
              "outlinewidth": 0,
              "ticks": ""
             }
            },
            "type": "scatterpolar"
           }
          ],
          "scatterpolargl": [
           {
            "marker": {
             "colorbar": {
              "outlinewidth": 0,
              "ticks": ""
             }
            },
            "type": "scatterpolargl"
           }
          ],
          "scatterternary": [
           {
            "marker": {
             "colorbar": {
              "outlinewidth": 0,
              "ticks": ""
             }
            },
            "type": "scatterternary"
           }
          ],
          "surface": [
           {
            "colorbar": {
             "outlinewidth": 0,
             "ticks": ""
            },
            "colorscale": [
             [
              0,
              "#0d0887"
             ],
             [
              0.1111111111111111,
              "#46039f"
             ],
             [
              0.2222222222222222,
              "#7201a8"
             ],
             [
              0.3333333333333333,
              "#9c179e"
             ],
             [
              0.4444444444444444,
              "#bd3786"
             ],
             [
              0.5555555555555556,
              "#d8576b"
             ],
             [
              0.6666666666666666,
              "#ed7953"
             ],
             [
              0.7777777777777778,
              "#fb9f3a"
             ],
             [
              0.8888888888888888,
              "#fdca26"
             ],
             [
              1,
              "#f0f921"
             ]
            ],
            "type": "surface"
           }
          ],
          "table": [
           {
            "cells": {
             "fill": {
              "color": "#EBF0F8"
             },
             "line": {
              "color": "white"
             }
            },
            "header": {
             "fill": {
              "color": "#C8D4E3"
             },
             "line": {
              "color": "white"
             }
            },
            "type": "table"
           }
          ]
         },
         "layout": {
          "annotationdefaults": {
           "arrowcolor": "#2a3f5f",
           "arrowhead": 0,
           "arrowwidth": 1
          },
          "autotypenumbers": "strict",
          "coloraxis": {
           "colorbar": {
            "outlinewidth": 0,
            "ticks": ""
           }
          },
          "colorscale": {
           "diverging": [
            [
             0,
             "#8e0152"
            ],
            [
             0.1,
             "#c51b7d"
            ],
            [
             0.2,
             "#de77ae"
            ],
            [
             0.3,
             "#f1b6da"
            ],
            [
             0.4,
             "#fde0ef"
            ],
            [
             0.5,
             "#f7f7f7"
            ],
            [
             0.6,
             "#e6f5d0"
            ],
            [
             0.7,
             "#b8e186"
            ],
            [
             0.8,
             "#7fbc41"
            ],
            [
             0.9,
             "#4d9221"
            ],
            [
             1,
             "#276419"
            ]
           ],
           "sequential": [
            [
             0,
             "#0d0887"
            ],
            [
             0.1111111111111111,
             "#46039f"
            ],
            [
             0.2222222222222222,
             "#7201a8"
            ],
            [
             0.3333333333333333,
             "#9c179e"
            ],
            [
             0.4444444444444444,
             "#bd3786"
            ],
            [
             0.5555555555555556,
             "#d8576b"
            ],
            [
             0.6666666666666666,
             "#ed7953"
            ],
            [
             0.7777777777777778,
             "#fb9f3a"
            ],
            [
             0.8888888888888888,
             "#fdca26"
            ],
            [
             1,
             "#f0f921"
            ]
           ],
           "sequentialminus": [
            [
             0,
             "#0d0887"
            ],
            [
             0.1111111111111111,
             "#46039f"
            ],
            [
             0.2222222222222222,
             "#7201a8"
            ],
            [
             0.3333333333333333,
             "#9c179e"
            ],
            [
             0.4444444444444444,
             "#bd3786"
            ],
            [
             0.5555555555555556,
             "#d8576b"
            ],
            [
             0.6666666666666666,
             "#ed7953"
            ],
            [
             0.7777777777777778,
             "#fb9f3a"
            ],
            [
             0.8888888888888888,
             "#fdca26"
            ],
            [
             1,
             "#f0f921"
            ]
           ]
          },
          "colorway": [
           "#636efa",
           "#EF553B",
           "#00cc96",
           "#ab63fa",
           "#FFA15A",
           "#19d3f3",
           "#FF6692",
           "#B6E880",
           "#FF97FF",
           "#FECB52"
          ],
          "font": {
           "color": "#2a3f5f"
          },
          "geo": {
           "bgcolor": "white",
           "lakecolor": "white",
           "landcolor": "#E5ECF6",
           "showlakes": true,
           "showland": true,
           "subunitcolor": "white"
          },
          "hoverlabel": {
           "align": "left"
          },
          "hovermode": "closest",
          "mapbox": {
           "style": "light"
          },
          "paper_bgcolor": "white",
          "plot_bgcolor": "#E5ECF6",
          "polar": {
           "angularaxis": {
            "gridcolor": "white",
            "linecolor": "white",
            "ticks": ""
           },
           "bgcolor": "#E5ECF6",
           "radialaxis": {
            "gridcolor": "white",
            "linecolor": "white",
            "ticks": ""
           }
          },
          "scene": {
           "xaxis": {
            "backgroundcolor": "#E5ECF6",
            "gridcolor": "white",
            "gridwidth": 2,
            "linecolor": "white",
            "showbackground": true,
            "ticks": "",
            "zerolinecolor": "white"
           },
           "yaxis": {
            "backgroundcolor": "#E5ECF6",
            "gridcolor": "white",
            "gridwidth": 2,
            "linecolor": "white",
            "showbackground": true,
            "ticks": "",
            "zerolinecolor": "white"
           },
           "zaxis": {
            "backgroundcolor": "#E5ECF6",
            "gridcolor": "white",
            "gridwidth": 2,
            "linecolor": "white",
            "showbackground": true,
            "ticks": "",
            "zerolinecolor": "white"
           }
          },
          "shapedefaults": {
           "line": {
            "color": "#2a3f5f"
           }
          },
          "ternary": {
           "aaxis": {
            "gridcolor": "white",
            "linecolor": "white",
            "ticks": ""
           },
           "baxis": {
            "gridcolor": "white",
            "linecolor": "white",
            "ticks": ""
           },
           "bgcolor": "#E5ECF6",
           "caxis": {
            "gridcolor": "white",
            "linecolor": "white",
            "ticks": ""
           }
          },
          "title": {
           "x": 0.05
          },
          "xaxis": {
           "automargin": true,
           "gridcolor": "white",
           "linecolor": "white",
           "ticks": "",
           "title": {
            "standoff": 15
           },
           "zerolinecolor": "white",
           "zerolinewidth": 2
          },
          "yaxis": {
           "automargin": true,
           "gridcolor": "white",
           "linecolor": "white",
           "ticks": "",
           "title": {
            "standoff": 15
           },
           "zerolinecolor": "white",
           "zerolinewidth": 2
          }
         }
        },
        "title": {
         "text": "Portfolio overview",
         "x": 0.5,
         "xanchor": "center",
         "xref": "paper"
        },
        "width": 700,
        "xaxis": {
         "anchor": "y",
         "domain": [
          0,
          1
         ]
        },
        "xaxis2": {
         "anchor": "y2",
         "domain": [
          0,
          1
         ]
        },
        "xaxis3": {
         "anchor": "y3",
         "domain": [
          0,
          1
         ]
        },
        "yaxis": {
         "anchor": "x",
         "domain": [
          0.7333333333333334,
          1
         ]
        },
        "yaxis2": {
         "anchor": "x2",
         "domain": [
          0.3666666666666667,
          0.6333333333333333
         ]
        },
        "yaxis3": {
         "anchor": "x3",
         "domain": [
          0,
          0.26666666666666666
         ]
        }
       }
      }
     },
     "metadata": {},
     "output_type": "display_data"
    }
   ],
   "source": [
    "fig = make_subplots(rows=3, cols=1, \n",
    "                    subplot_titles=(\"NAV\", \"Max Drawdown\", \"Sharpe Ratio\" ), vertical_spacing=0.1)\n",
    "                    \n",
    "fig.update_layout(title_text=\"Portfolio overview\", \n",
    "                  title_x=0.5, \n",
    "                  title_xanchor=\"center\", \n",
    "                  title_xref=\"paper\", \n",
    "                  height=800, \n",
    "                  width=700,\n",
    "                  font=dict(family=\"Consolas\")\n",
    "                  )  \n",
    "                  \n",
    "# add NAV plot\n",
    "set_Date_as_x = df['Date']\n",
    "\n",
    "# Portfolio NAV\n",
    "fig.add_scatter(x=set_Date_as_x, y=Portfolio_nav, name=f\"Portfolio NAV\",\n",
    "                legendgroup=\"Portfolio\", legendgrouptitle_text=\"Portfolio\", row=1, col=1, \n",
    "                line=dict(color=\"#4285F4\", width=2))\n",
    "\n",
    "fig.add_scatter(x=set_Date_as_x, y=Benchmark_nav, name=f\"Benchmark NAV\",\n",
    "                legendgroup=\"Benchmark\", legendgrouptitle_text=\"Benchmark\", row=1, col=1, \n",
    "                line=dict(color=\"darkviolet\", width=2))\n",
    "# Portfolio Drawdown\n",
    "fig.add_scatter(x=set_Date_as_x, y=drawdown, name=f\"Portfolio Drawdown\",\n",
    "                legendgroup=\"Portfolio\", legendgrouptitle_text=\"Drawdown\", row=2, col=1, \n",
    "                line=dict(color=\"#4285F4\", width=2))\n",
    "\n",
    "fig.add_scatter(x=set_Date_as_x, y=Benchmark_drawdown, name=f\"Benchmark_Drawdown\",\n",
    "                legendgroup=\"Benchmark\", legendgrouptitle_text=\"Benchmark_Drawdown\", row=2, col=1, \n",
    "                line=dict(color=\"darkviolet\", width=2))\n",
    "# Portfolio Sharpe\n",
    "fig.add_scatter(x=set_Date_as_x, y=Portfolio_sharpe, name=f\"Portfolio_Sharpe\",\n",
    "                legendgroup=\"Portfolio\", legendgrouptitle_text=\"Portfolio_sharpe\", row=3, col=1, \n",
    "                line=dict(color=\"#4285F4\", width=2))\n",
    "\n",
    "fig.add_scatter(x=set_Date_as_x, y=Benchmark_sharpe, name=f\"Benchmark_Sharpe\",\n",
    "                legendgroup=\"Benchmark\", legendgrouptitle_text=\"Benchmark_sharpe\", row=3, col=1, \n",
    "                line=dict(color=\"darkviolet\", width=2))\n",
    "fig.show()"
   ]
  },
  {
   "cell_type": "code",
   "execution_count": null,
   "metadata": {},
   "outputs": [],
   "source": []
  },
  {
   "cell_type": "code",
   "execution_count": null,
   "metadata": {},
   "outputs": [],
   "source": []
  }
 ],
 "metadata": {
  "kernelspec": {
   "display_name": "venv",
   "language": "python",
   "name": "python3"
  },
  "language_info": {
   "codemirror_mode": {
    "name": "ipython",
    "version": 3
   },
   "file_extension": ".py",
   "mimetype": "text/x-python",
   "name": "python",
   "nbconvert_exporter": "python",
   "pygments_lexer": "ipython3",
   "version": "3.9.16"
  }
 },
 "nbformat": 4,
 "nbformat_minor": 2
}
